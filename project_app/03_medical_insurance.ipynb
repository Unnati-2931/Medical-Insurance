{
 "cells": [
  {
   "cell_type": "markdown",
   "id": "9daee5bd",
   "metadata": {},
   "source": [
    "# Medical Insurance Dataset"
   ]
  },
  {
   "cell_type": "code",
   "execution_count": 1,
   "id": "28dac138",
   "metadata": {},
   "outputs": [],
   "source": [
    "import numpy as np\n",
    "import pandas as pd\n",
    "\n",
    "# Visualization\n",
    "import seaborn as sns\n",
    "import matplotlib.pyplot as plt\n",
    "\n",
    "# Feature Selection\n",
    "from statsmodels.stats.outliers_influence import variance_inflation_factor\n",
    "\n",
    "# Model Building\n",
    "from sklearn.model_selection import train_test_split, GridSearchCV, RandomizedSearchCV\n",
    "from sklearn.linear_model import LinearRegression, Ridge, Lasso\n",
    "\n",
    "# Evaluation Metrics\n",
    "from sklearn.metrics import mean_absolute_error, mean_squared_error, r2_score\n",
    "\n",
    "from scipy.stats import shapiro, kstest, normaltest, zscore, skew\n",
    "\n",
    "import json\n",
    "import pickle\n",
    "\n",
    "# To avoid warning\n",
    "import warnings\n",
    "warnings.filterwarnings(\"ignore\")"
   ]
  },
  {
   "cell_type": "markdown",
   "id": "ec226568",
   "metadata": {},
   "source": [
    "# 1. Problem Statement"
   ]
  },
  {
   "cell_type": "raw",
   "id": "33b4996b",
   "metadata": {},
   "source": [
    "To predict the charges for medical insurance using supervised machine learning considering linear regression problem"
   ]
  },
  {
   "cell_type": "markdown",
   "id": "ac9e3d85",
   "metadata": {},
   "source": [
    "# 2. Data Gathering"
   ]
  },
  {
   "cell_type": "code",
   "execution_count": 2,
   "id": "1f798fc5",
   "metadata": {},
   "outputs": [
    {
     "data": {
      "text/html": [
       "<div>\n",
       "<style scoped>\n",
       "    .dataframe tbody tr th:only-of-type {\n",
       "        vertical-align: middle;\n",
       "    }\n",
       "\n",
       "    .dataframe tbody tr th {\n",
       "        vertical-align: top;\n",
       "    }\n",
       "\n",
       "    .dataframe thead th {\n",
       "        text-align: right;\n",
       "    }\n",
       "</style>\n",
       "<table border=\"1\" class=\"dataframe\">\n",
       "  <thead>\n",
       "    <tr style=\"text-align: right;\">\n",
       "      <th></th>\n",
       "      <th>age</th>\n",
       "      <th>sex</th>\n",
       "      <th>bmi</th>\n",
       "      <th>children</th>\n",
       "      <th>smoker</th>\n",
       "      <th>region</th>\n",
       "      <th>charges</th>\n",
       "    </tr>\n",
       "  </thead>\n",
       "  <tbody>\n",
       "    <tr>\n",
       "      <th>0</th>\n",
       "      <td>19</td>\n",
       "      <td>female</td>\n",
       "      <td>27.900</td>\n",
       "      <td>0</td>\n",
       "      <td>yes</td>\n",
       "      <td>southwest</td>\n",
       "      <td>16884.92400</td>\n",
       "    </tr>\n",
       "    <tr>\n",
       "      <th>1</th>\n",
       "      <td>18</td>\n",
       "      <td>male</td>\n",
       "      <td>33.770</td>\n",
       "      <td>1</td>\n",
       "      <td>no</td>\n",
       "      <td>southeast</td>\n",
       "      <td>1725.55230</td>\n",
       "    </tr>\n",
       "    <tr>\n",
       "      <th>2</th>\n",
       "      <td>28</td>\n",
       "      <td>male</td>\n",
       "      <td>33.000</td>\n",
       "      <td>3</td>\n",
       "      <td>no</td>\n",
       "      <td>southeast</td>\n",
       "      <td>4449.46200</td>\n",
       "    </tr>\n",
       "    <tr>\n",
       "      <th>3</th>\n",
       "      <td>33</td>\n",
       "      <td>male</td>\n",
       "      <td>22.705</td>\n",
       "      <td>0</td>\n",
       "      <td>no</td>\n",
       "      <td>northwest</td>\n",
       "      <td>21984.47061</td>\n",
       "    </tr>\n",
       "    <tr>\n",
       "      <th>4</th>\n",
       "      <td>32</td>\n",
       "      <td>male</td>\n",
       "      <td>28.880</td>\n",
       "      <td>0</td>\n",
       "      <td>no</td>\n",
       "      <td>northwest</td>\n",
       "      <td>3866.85520</td>\n",
       "    </tr>\n",
       "    <tr>\n",
       "      <th>...</th>\n",
       "      <td>...</td>\n",
       "      <td>...</td>\n",
       "      <td>...</td>\n",
       "      <td>...</td>\n",
       "      <td>...</td>\n",
       "      <td>...</td>\n",
       "      <td>...</td>\n",
       "    </tr>\n",
       "    <tr>\n",
       "      <th>1333</th>\n",
       "      <td>50</td>\n",
       "      <td>male</td>\n",
       "      <td>30.970</td>\n",
       "      <td>3</td>\n",
       "      <td>no</td>\n",
       "      <td>northwest</td>\n",
       "      <td>10600.54830</td>\n",
       "    </tr>\n",
       "    <tr>\n",
       "      <th>1334</th>\n",
       "      <td>18</td>\n",
       "      <td>female</td>\n",
       "      <td>31.920</td>\n",
       "      <td>0</td>\n",
       "      <td>no</td>\n",
       "      <td>northeast</td>\n",
       "      <td>2205.98080</td>\n",
       "    </tr>\n",
       "    <tr>\n",
       "      <th>1335</th>\n",
       "      <td>18</td>\n",
       "      <td>female</td>\n",
       "      <td>36.850</td>\n",
       "      <td>0</td>\n",
       "      <td>no</td>\n",
       "      <td>southeast</td>\n",
       "      <td>1629.83350</td>\n",
       "    </tr>\n",
       "    <tr>\n",
       "      <th>1336</th>\n",
       "      <td>21</td>\n",
       "      <td>female</td>\n",
       "      <td>25.800</td>\n",
       "      <td>0</td>\n",
       "      <td>no</td>\n",
       "      <td>southwest</td>\n",
       "      <td>2007.94500</td>\n",
       "    </tr>\n",
       "    <tr>\n",
       "      <th>1337</th>\n",
       "      <td>61</td>\n",
       "      <td>female</td>\n",
       "      <td>29.070</td>\n",
       "      <td>0</td>\n",
       "      <td>yes</td>\n",
       "      <td>northwest</td>\n",
       "      <td>29141.36030</td>\n",
       "    </tr>\n",
       "  </tbody>\n",
       "</table>\n",
       "<p>1338 rows × 7 columns</p>\n",
       "</div>"
      ],
      "text/plain": [
       "      age     sex     bmi  children smoker     region      charges\n",
       "0      19  female  27.900         0    yes  southwest  16884.92400\n",
       "1      18    male  33.770         1     no  southeast   1725.55230\n",
       "2      28    male  33.000         3     no  southeast   4449.46200\n",
       "3      33    male  22.705         0     no  northwest  21984.47061\n",
       "4      32    male  28.880         0     no  northwest   3866.85520\n",
       "...   ...     ...     ...       ...    ...        ...          ...\n",
       "1333   50    male  30.970         3     no  northwest  10600.54830\n",
       "1334   18  female  31.920         0     no  northeast   2205.98080\n",
       "1335   18  female  36.850         0     no  southeast   1629.83350\n",
       "1336   21  female  25.800         0     no  southwest   2007.94500\n",
       "1337   61  female  29.070         0    yes  northwest  29141.36030\n",
       "\n",
       "[1338 rows x 7 columns]"
      ]
     },
     "execution_count": 2,
     "metadata": {},
     "output_type": "execute_result"
    }
   ],
   "source": [
    "df=pd.read_csv(\"medical_insurance.csv\")\n",
    "df"
   ]
  },
  {
   "cell_type": "markdown",
   "id": "a930f843",
   "metadata": {},
   "source": [
    "# 3. Exploratory Data Analysis (EDA)"
   ]
  },
  {
   "cell_type": "raw",
   "id": "13d0b3fb",
   "metadata": {},
   "source": [
    "In EDA generally we are going to perform following operations:\n",
    "    1. Detecting Missing values.\n",
    "    2. Converting categorical data to numerical.(One-Hot or Label Encoding) \n",
    "    3. Converting Dtype Object to int or float(most preffered).\n",
    "    4. Imputation of Missing values."
   ]
  },
  {
   "cell_type": "code",
   "execution_count": 3,
   "id": "33c03c14",
   "metadata": {},
   "outputs": [
    {
     "name": "stdout",
     "output_type": "stream",
     "text": [
      "<class 'pandas.core.frame.DataFrame'>\n",
      "RangeIndex: 1338 entries, 0 to 1337\n",
      "Data columns (total 7 columns):\n",
      " #   Column    Non-Null Count  Dtype  \n",
      "---  ------    --------------  -----  \n",
      " 0   age       1338 non-null   int64  \n",
      " 1   sex       1338 non-null   object \n",
      " 2   bmi       1338 non-null   float64\n",
      " 3   children  1338 non-null   int64  \n",
      " 4   smoker    1338 non-null   object \n",
      " 5   region    1338 non-null   object \n",
      " 6   charges   1338 non-null   float64\n",
      "dtypes: float64(2), int64(2), object(3)\n",
      "memory usage: 73.3+ KB\n"
     ]
    }
   ],
   "source": [
    "df.info()"
   ]
  },
  {
   "cell_type": "code",
   "execution_count": 4,
   "id": "5742ecf5",
   "metadata": {},
   "outputs": [
    {
     "data": {
      "text/plain": [
       "age         0\n",
       "sex         0\n",
       "bmi         0\n",
       "children    0\n",
       "smoker      0\n",
       "region      0\n",
       "charges     0\n",
       "dtype: int64"
      ]
     },
     "execution_count": 4,
     "metadata": {},
     "output_type": "execute_result"
    }
   ],
   "source": [
    "df.isna().sum()"
   ]
  },
  {
   "cell_type": "code",
   "execution_count": 5,
   "id": "ebfcadab",
   "metadata": {},
   "outputs": [
    {
     "data": {
      "text/plain": [
       "Index(['age', 'sex', 'bmi', 'children', 'smoker', 'region', 'charges'], dtype='object')"
      ]
     },
     "execution_count": 5,
     "metadata": {},
     "output_type": "execute_result"
    }
   ],
   "source": [
    "df.columns"
   ]
  },
  {
   "cell_type": "markdown",
   "id": "e764b0c0",
   "metadata": {},
   "source": [
    "### 3.1 age"
   ]
  },
  {
   "cell_type": "code",
   "execution_count": 6,
   "id": "851aefcd",
   "metadata": {},
   "outputs": [
    {
     "data": {
      "text/plain": [
       "array([19, 18, 28, 33, 32, 31, 46, 37, 60, 25, 62, 23, 56, 27, 52, 30, 34,\n",
       "       59, 63, 55, 22, 26, 35, 24, 41, 38, 36, 21, 48, 40, 58, 53, 43, 64,\n",
       "       20, 61, 44, 57, 29, 45, 54, 49, 47, 51, 42, 50, 39], dtype=int64)"
      ]
     },
     "execution_count": 6,
     "metadata": {},
     "output_type": "execute_result"
    }
   ],
   "source": [
    "df['age'].unique()"
   ]
  },
  {
   "cell_type": "code",
   "execution_count": 7,
   "id": "fe63aa7f",
   "metadata": {},
   "outputs": [
    {
     "data": {
      "text/plain": [
       "18    69\n",
       "19    68\n",
       "50    29\n",
       "51    29\n",
       "47    29\n",
       "46    29\n",
       "45    29\n",
       "20    29\n",
       "48    29\n",
       "52    29\n",
       "22    28\n",
       "49    28\n",
       "54    28\n",
       "53    28\n",
       "21    28\n",
       "26    28\n",
       "24    28\n",
       "25    28\n",
       "28    28\n",
       "27    28\n",
       "23    28\n",
       "43    27\n",
       "29    27\n",
       "30    27\n",
       "41    27\n",
       "42    27\n",
       "44    27\n",
       "31    27\n",
       "40    27\n",
       "32    26\n",
       "33    26\n",
       "56    26\n",
       "34    26\n",
       "55    26\n",
       "57    26\n",
       "37    25\n",
       "59    25\n",
       "58    25\n",
       "36    25\n",
       "38    25\n",
       "35    25\n",
       "39    25\n",
       "61    23\n",
       "60    23\n",
       "63    23\n",
       "62    23\n",
       "64    22\n",
       "Name: age, dtype: int64"
      ]
     },
     "execution_count": 7,
     "metadata": {},
     "output_type": "execute_result"
    }
   ],
   "source": [
    "df['age'].value_counts()"
   ]
  },
  {
   "cell_type": "markdown",
   "id": "d8e429bd",
   "metadata": {},
   "source": [
    "### 3.2 sex"
   ]
  },
  {
   "cell_type": "code",
   "execution_count": 8,
   "id": "5cf41e24",
   "metadata": {},
   "outputs": [
    {
     "data": {
      "text/plain": [
       "array(['female', 'male'], dtype=object)"
      ]
     },
     "execution_count": 8,
     "metadata": {},
     "output_type": "execute_result"
    }
   ],
   "source": [
    "df['sex'].unique()"
   ]
  },
  {
   "cell_type": "code",
   "execution_count": 9,
   "id": "1f14faae",
   "metadata": {},
   "outputs": [
    {
     "data": {
      "text/plain": [
       "{'male': 676, 'female': 662}"
      ]
     },
     "execution_count": 9,
     "metadata": {},
     "output_type": "execute_result"
    }
   ],
   "source": [
    "dict(df['sex'].value_counts())"
   ]
  },
  {
   "cell_type": "code",
   "execution_count": 10,
   "id": "55fbbf14",
   "metadata": {},
   "outputs": [],
   "source": [
    "sex_value={'male': 0, 'female': 1}"
   ]
  },
  {
   "cell_type": "code",
   "execution_count": 11,
   "id": "3cc24950",
   "metadata": {},
   "outputs": [
    {
     "data": {
      "text/plain": [
       "0       1\n",
       "1       0\n",
       "2       0\n",
       "3       0\n",
       "4       0\n",
       "       ..\n",
       "1333    0\n",
       "1334    1\n",
       "1335    1\n",
       "1336    1\n",
       "1337    1\n",
       "Name: sex, Length: 1338, dtype: int64"
      ]
     },
     "execution_count": 11,
     "metadata": {},
     "output_type": "execute_result"
    }
   ],
   "source": [
    "df['sex'].replace({'male': 0, 'female': 1}, inplace=True)\n",
    "df['sex']"
   ]
  },
  {
   "cell_type": "code",
   "execution_count": 12,
   "id": "2cfd7b96",
   "metadata": {},
   "outputs": [],
   "source": [
    "sex_values={'male': 0, 'female': 1}"
   ]
  },
  {
   "cell_type": "markdown",
   "id": "48d535f0",
   "metadata": {},
   "source": [
    "### 3.3 bmi"
   ]
  },
  {
   "cell_type": "code",
   "execution_count": 13,
   "id": "6812c456",
   "metadata": {},
   "outputs": [
    {
     "data": {
      "text/plain": [
       "array([27.9  , 33.77 , 33.   , 22.705, 28.88 , 25.74 , 33.44 , 27.74 ,\n",
       "       29.83 , 25.84 , 26.22 , 26.29 , 34.4  , 39.82 , 42.13 , 24.6  ,\n",
       "       30.78 , 23.845, 40.3  , 35.3  , 36.005, 32.4  , 34.1  , 31.92 ,\n",
       "       28.025, 27.72 , 23.085, 32.775, 17.385, 36.3  , 35.6  , 26.315,\n",
       "       28.6  , 28.31 , 36.4  , 20.425, 32.965, 20.8  , 36.67 , 39.9  ,\n",
       "       26.6  , 36.63 , 21.78 , 30.8  , 37.05 , 37.3  , 38.665, 34.77 ,\n",
       "       24.53 , 35.2  , 35.625, 33.63 , 28.   , 34.43 , 28.69 , 36.955,\n",
       "       31.825, 31.68 , 22.88 , 37.335, 27.36 , 33.66 , 24.7  , 25.935,\n",
       "       22.42 , 28.9  , 39.1  , 36.19 , 23.98 , 24.75 , 28.5  , 28.1  ,\n",
       "       32.01 , 27.4  , 34.01 , 29.59 , 35.53 , 39.805, 26.885, 38.285,\n",
       "       37.62 , 41.23 , 34.8  , 22.895, 31.16 , 27.2  , 26.98 , 39.49 ,\n",
       "       24.795, 31.3  , 38.28 , 19.95 , 19.3  , 31.6  , 25.46 , 30.115,\n",
       "       29.92 , 27.5  , 28.4  , 30.875, 27.94 , 35.09 , 29.7  , 35.72 ,\n",
       "       32.205, 28.595, 49.06 , 27.17 , 23.37 , 37.1  , 23.75 , 28.975,\n",
       "       31.35 , 33.915, 28.785, 28.3  , 37.4  , 17.765, 34.7  , 26.505,\n",
       "       22.04 , 35.9  , 25.555, 28.05 , 25.175, 31.9  , 36.   , 32.49 ,\n",
       "       25.3  , 29.735, 38.83 , 30.495, 37.73 , 37.43 , 24.13 , 37.145,\n",
       "       39.52 , 24.42 , 27.83 , 36.85 , 39.6  , 29.8  , 29.64 , 28.215,\n",
       "       37.   , 33.155, 18.905, 41.47 , 30.3  , 15.96 , 33.345, 37.7  ,\n",
       "       27.835, 29.2  , 26.41 , 30.69 , 41.895, 30.9  , 32.2  , 32.11 ,\n",
       "       31.57 , 26.2  , 30.59 , 32.8  , 18.05 , 39.33 , 32.23 , 24.035,\n",
       "       36.08 , 22.3  , 26.4  , 31.8  , 26.73 , 23.1  , 23.21 , 33.7  ,\n",
       "       33.25 , 24.64 , 33.88 , 38.06 , 41.91 , 31.635, 36.195, 17.8  ,\n",
       "       24.51 , 22.22 , 38.39 , 29.07 , 22.135, 26.8  , 30.02 , 35.86 ,\n",
       "       20.9  , 17.29 , 34.21 , 25.365, 40.15 , 24.415, 25.2  , 26.84 ,\n",
       "       24.32 , 42.35 , 19.8  , 32.395, 30.2  , 29.37 , 34.2  , 27.455,\n",
       "       27.55 , 20.615, 24.3  , 31.79 , 21.56 , 28.12 , 40.565, 27.645,\n",
       "       31.2  , 26.62 , 48.07 , 36.765, 33.4  , 45.54 , 28.82 , 22.99 ,\n",
       "       27.7  , 25.41 , 34.39 , 22.61 , 37.51 , 38.   , 33.33 , 34.865,\n",
       "       33.06 , 35.97 , 31.4  , 25.27 , 40.945, 34.105, 36.48 , 33.8  ,\n",
       "       36.7  , 36.385, 34.5  , 32.3  , 27.6  , 29.26 , 35.75 , 23.18 ,\n",
       "       25.6  , 35.245, 43.89 , 20.79 , 30.5  , 21.7  , 21.89 , 24.985,\n",
       "       32.015, 30.4  , 21.09 , 22.23 , 32.9  , 24.89 , 31.46 , 17.955,\n",
       "       30.685, 43.34 , 39.05 , 30.21 , 31.445, 19.855, 31.02 , 38.17 ,\n",
       "       20.6  , 47.52 , 20.4  , 38.38 , 24.31 , 23.6  , 21.12 , 30.03 ,\n",
       "       17.48 , 20.235, 17.195, 23.9  , 35.15 , 35.64 , 22.6  , 39.16 ,\n",
       "       27.265, 29.165, 16.815, 33.1  , 26.9  , 33.11 , 31.73 , 46.75 ,\n",
       "       29.45 , 32.68 , 33.5  , 43.01 , 36.52 , 26.695, 25.65 , 29.6  ,\n",
       "       38.6  , 23.4  , 46.53 , 30.14 , 30.   , 38.095, 28.38 , 28.7  ,\n",
       "       33.82 , 24.09 , 32.67 , 25.1  , 32.56 , 41.325, 39.5  , 34.3  ,\n",
       "       31.065, 21.47 , 25.08 , 43.4  , 25.7  , 27.93 , 39.2  , 26.03 ,\n",
       "       30.25 , 28.93 , 35.7  , 35.31 , 31.   , 44.22 , 26.07 , 25.8  ,\n",
       "       39.425, 40.48 , 38.9  , 47.41 , 35.435, 46.7  , 46.2  , 21.4  ,\n",
       "       23.8  , 44.77 , 32.12 , 29.1  , 37.29 , 43.12 , 36.86 , 34.295,\n",
       "       23.465, 45.43 , 23.65 , 20.7  , 28.27 , 35.91 , 29.   , 19.57 ,\n",
       "       31.13 , 21.85 , 40.26 , 33.725, 29.48 , 32.6  , 37.525, 23.655,\n",
       "       37.8  , 19.   , 21.3  , 33.535, 42.46 , 38.95 , 36.1  , 29.3  ,\n",
       "       39.7  , 38.19 , 42.4  , 34.96 , 42.68 , 31.54 , 29.81 , 21.375,\n",
       "       40.81 , 17.4  , 20.3  , 18.5  , 26.125, 41.69 , 24.1  , 36.2  ,\n",
       "       40.185, 39.27 , 34.87 , 44.745, 29.545, 23.54 , 40.47 , 40.66 ,\n",
       "       36.6  , 35.4  , 27.075, 28.405, 21.755, 40.28 , 30.1  , 32.1  ,\n",
       "       23.7  , 35.5  , 29.15 , 27.   , 37.905, 22.77 , 22.8  , 34.58 ,\n",
       "       27.1  , 19.475, 26.7  , 34.32 , 24.4  , 41.14 , 22.515, 41.8  ,\n",
       "       26.18 , 42.24 , 26.51 , 35.815, 41.42 , 36.575, 42.94 , 21.01 ,\n",
       "       24.225, 17.67 , 31.5  , 31.1  , 32.78 , 32.45 , 50.38 , 47.6  ,\n",
       "       25.4  , 29.9  , 43.7  , 24.86 , 28.8  , 29.5  , 29.04 , 38.94 ,\n",
       "       44.   , 20.045, 40.92 , 35.1  , 29.355, 32.585, 32.34 , 39.8  ,\n",
       "       24.605, 33.99 , 28.2  , 25.   , 33.2  , 23.2  , 20.1  , 32.5  ,\n",
       "       37.18 , 46.09 , 39.93 , 35.8  , 31.255, 18.335, 42.9  , 26.79 ,\n",
       "       39.615, 25.9  , 25.745, 28.16 , 23.56 , 40.5  , 35.42 , 39.995,\n",
       "       34.675, 20.52 , 23.275, 36.29 , 32.7  , 19.19 , 20.13 , 23.32 ,\n",
       "       45.32 , 34.6  , 18.715, 21.565, 23.   , 37.07 , 52.58 , 42.655,\n",
       "       21.66 , 32.   , 18.3  , 47.74 , 22.1  , 19.095, 31.24 , 29.925,\n",
       "       20.35 , 25.85 , 42.75 , 18.6  , 23.87 , 45.9  , 21.5  , 30.305,\n",
       "       44.88 , 41.1  , 40.37 , 28.49 , 33.55 , 40.375, 27.28 , 17.86 ,\n",
       "       33.3  , 39.14 , 21.945, 24.97 , 23.94 , 34.485, 21.8  , 23.3  ,\n",
       "       36.96 , 21.28 , 29.4  , 27.3  , 37.9  , 37.715, 23.76 , 25.52 ,\n",
       "       27.61 , 27.06 , 39.4  , 34.9  , 22.   , 30.36 , 27.8  , 53.13 ,\n",
       "       39.71 , 32.87 , 44.7  , 30.97 ])"
      ]
     },
     "execution_count": 13,
     "metadata": {},
     "output_type": "execute_result"
    }
   ],
   "source": [
    "df['bmi'].unique()"
   ]
  },
  {
   "cell_type": "code",
   "execution_count": 14,
   "id": "e853ce9b",
   "metadata": {},
   "outputs": [
    {
     "data": {
      "text/plain": [
       "32.300    13\n",
       "28.310     9\n",
       "30.495     8\n",
       "30.875     8\n",
       "31.350     8\n",
       "          ..\n",
       "46.200     1\n",
       "23.800     1\n",
       "44.770     1\n",
       "32.120     1\n",
       "30.970     1\n",
       "Name: bmi, Length: 548, dtype: int64"
      ]
     },
     "execution_count": 14,
     "metadata": {},
     "output_type": "execute_result"
    }
   ],
   "source": [
    "df['bmi'].value_counts()"
   ]
  },
  {
   "cell_type": "markdown",
   "id": "0d3edea1",
   "metadata": {},
   "source": [
    "### 3.4 children"
   ]
  },
  {
   "cell_type": "code",
   "execution_count": 15,
   "id": "6b1a1647",
   "metadata": {},
   "outputs": [
    {
     "data": {
      "text/plain": [
       "array([0, 1, 3, 2, 5, 4], dtype=int64)"
      ]
     },
     "execution_count": 15,
     "metadata": {},
     "output_type": "execute_result"
    }
   ],
   "source": [
    "df['children'].unique()"
   ]
  },
  {
   "cell_type": "code",
   "execution_count": 16,
   "id": "1e872e33",
   "metadata": {},
   "outputs": [
    {
     "data": {
      "text/plain": [
       "0    574\n",
       "1    324\n",
       "2    240\n",
       "3    157\n",
       "4     25\n",
       "5     18\n",
       "Name: children, dtype: int64"
      ]
     },
     "execution_count": 16,
     "metadata": {},
     "output_type": "execute_result"
    }
   ],
   "source": [
    "df['children'].value_counts()"
   ]
  },
  {
   "cell_type": "markdown",
   "id": "116e87de",
   "metadata": {},
   "source": [
    "### 3.5 smoker"
   ]
  },
  {
   "cell_type": "code",
   "execution_count": 17,
   "id": "0546c1e7",
   "metadata": {},
   "outputs": [
    {
     "data": {
      "text/plain": [
       "array(['yes', 'no'], dtype=object)"
      ]
     },
     "execution_count": 17,
     "metadata": {},
     "output_type": "execute_result"
    }
   ],
   "source": [
    "df['smoker'].unique()"
   ]
  },
  {
   "cell_type": "code",
   "execution_count": 18,
   "id": "c848f801",
   "metadata": {},
   "outputs": [
    {
     "data": {
      "text/plain": [
       "{'no': 1064, 'yes': 274}"
      ]
     },
     "execution_count": 18,
     "metadata": {},
     "output_type": "execute_result"
    }
   ],
   "source": [
    "dict(df['smoker'].value_counts())"
   ]
  },
  {
   "cell_type": "code",
   "execution_count": 19,
   "id": "39617a43",
   "metadata": {},
   "outputs": [],
   "source": [
    "df['smoker'].replace({'no': 0, 'yes': 1},inplace=True)"
   ]
  },
  {
   "cell_type": "code",
   "execution_count": 20,
   "id": "c953636b",
   "metadata": {},
   "outputs": [],
   "source": [
    "smoker_value={'no': 0, 'yes': 1}"
   ]
  },
  {
   "cell_type": "code",
   "execution_count": 21,
   "id": "ca364cfe",
   "metadata": {},
   "outputs": [],
   "source": [
    "smoker_values={'no': 0, 'yes': 1}"
   ]
  },
  {
   "cell_type": "markdown",
   "id": "7e2bd465",
   "metadata": {},
   "source": [
    "### 3.6 region"
   ]
  },
  {
   "cell_type": "code",
   "execution_count": 22,
   "id": "e30fde30",
   "metadata": {},
   "outputs": [
    {
     "data": {
      "text/plain": [
       "array(['southwest', 'southeast', 'northwest', 'northeast'], dtype=object)"
      ]
     },
     "execution_count": 22,
     "metadata": {},
     "output_type": "execute_result"
    }
   ],
   "source": [
    "df['region'].unique()"
   ]
  },
  {
   "cell_type": "code",
   "execution_count": 23,
   "id": "1e476484",
   "metadata": {},
   "outputs": [
    {
     "data": {
      "text/plain": [
       "southeast    364\n",
       "southwest    325\n",
       "northwest    325\n",
       "northeast    324\n",
       "Name: region, dtype: int64"
      ]
     },
     "execution_count": 23,
     "metadata": {},
     "output_type": "execute_result"
    }
   ],
   "source": [
    "df['region'].value_counts()"
   ]
  },
  {
   "cell_type": "code",
   "execution_count": 24,
   "id": "6fa0c419",
   "metadata": {},
   "outputs": [],
   "source": [
    "df=pd.get_dummies(df,columns=['region'])"
   ]
  },
  {
   "cell_type": "markdown",
   "id": "d13c5529",
   "metadata": {},
   "source": [
    "### 3.7 charges "
   ]
  },
  {
   "cell_type": "code",
   "execution_count": 25,
   "id": "bd3d00d5",
   "metadata": {},
   "outputs": [
    {
     "data": {
      "text/plain": [
       "array([16884.924 ,  1725.5523,  4449.462 , ...,  1629.8335,  2007.945 ,\n",
       "       29141.3603])"
      ]
     },
     "execution_count": 25,
     "metadata": {},
     "output_type": "execute_result"
    }
   ],
   "source": [
    "df['charges'].unique()"
   ]
  },
  {
   "cell_type": "code",
   "execution_count": 26,
   "id": "b9fbcee8",
   "metadata": {},
   "outputs": [
    {
     "data": {
      "text/plain": [
       "1639.56310     2\n",
       "16884.92400    1\n",
       "29330.98315    1\n",
       "2221.56445     1\n",
       "19798.05455    1\n",
       "              ..\n",
       "7345.08400     1\n",
       "26109.32905    1\n",
       "28287.89766    1\n",
       "1149.39590     1\n",
       "29141.36030    1\n",
       "Name: charges, Length: 1337, dtype: int64"
      ]
     },
     "execution_count": 26,
     "metadata": {},
     "output_type": "execute_result"
    }
   ],
   "source": [
    "df['charges'].value_counts()"
   ]
  },
  {
   "cell_type": "code",
   "execution_count": 27,
   "id": "8adca980",
   "metadata": {},
   "outputs": [
    {
     "data": {
      "text/plain": [
       "age                 0\n",
       "sex                 0\n",
       "bmi                 0\n",
       "children            0\n",
       "smoker              0\n",
       "charges             0\n",
       "region_northeast    0\n",
       "region_northwest    0\n",
       "region_southeast    0\n",
       "region_southwest    0\n",
       "dtype: int64"
      ]
     },
     "execution_count": 27,
     "metadata": {},
     "output_type": "execute_result"
    }
   ],
   "source": [
    "df.isnull().sum()"
   ]
  },
  {
   "cell_type": "code",
   "execution_count": 28,
   "id": "113f9216",
   "metadata": {},
   "outputs": [
    {
     "name": "stdout",
     "output_type": "stream",
     "text": [
      "<class 'pandas.core.frame.DataFrame'>\n",
      "RangeIndex: 1338 entries, 0 to 1337\n",
      "Data columns (total 10 columns):\n",
      " #   Column            Non-Null Count  Dtype  \n",
      "---  ------            --------------  -----  \n",
      " 0   age               1338 non-null   int64  \n",
      " 1   sex               1338 non-null   int64  \n",
      " 2   bmi               1338 non-null   float64\n",
      " 3   children          1338 non-null   int64  \n",
      " 4   smoker            1338 non-null   int64  \n",
      " 5   charges           1338 non-null   float64\n",
      " 6   region_northeast  1338 non-null   uint8  \n",
      " 7   region_northwest  1338 non-null   uint8  \n",
      " 8   region_southeast  1338 non-null   uint8  \n",
      " 9   region_southwest  1338 non-null   uint8  \n",
      "dtypes: float64(2), int64(4), uint8(4)\n",
      "memory usage: 68.1 KB\n"
     ]
    }
   ],
   "source": [
    "df.info()"
   ]
  },
  {
   "cell_type": "markdown",
   "id": "5b470a1f",
   "metadata": {},
   "source": [
    "# 4. Feature Engineering"
   ]
  },
  {
   "cell_type": "raw",
   "id": "a4e3a7de",
   "metadata": {},
   "source": [
    "In Feature Engineering generally we are going to perform following operations:\n",
    "    a) Detecting the outliers.\n",
    "    b) Imputation of outliers"
   ]
  },
  {
   "cell_type": "code",
   "execution_count": 29,
   "id": "d2a8a70d",
   "metadata": {},
   "outputs": [
    {
     "data": {
      "text/plain": [
       "Index(['age', 'sex', 'bmi', 'children', 'smoker', 'charges',\n",
       "       'region_northeast', 'region_northwest', 'region_southeast',\n",
       "       'region_southwest'],\n",
       "      dtype='object')"
      ]
     },
     "execution_count": 29,
     "metadata": {},
     "output_type": "execute_result"
    }
   ],
   "source": [
    "df.columns"
   ]
  },
  {
   "cell_type": "markdown",
   "id": "052880b8",
   "metadata": {},
   "source": [
    "### 4.1 age"
   ]
  },
  {
   "cell_type": "code",
   "execution_count": 30,
   "id": "59859564",
   "metadata": {},
   "outputs": [
    {
     "data": {
      "image/png": "[encoded data removed]",
      "text/plain": [
       "<Figure size 640x480 with 1 Axes>"
      ]
     },
     "metadata": {},
     "output_type": "display_data"
    }
   ],
   "source": [
    "sns.boxplot(x= df['age'])\n",
    "plt.show()"
   ]
  },
  {
   "cell_type": "code",
   "execution_count": 31,
   "id": "d54a342f",
   "metadata": {},
   "outputs": [
    {
     "name": "stdout",
     "output_type": "stream",
     "text": [
      "Q1 : 27.0\n",
      "Q2 : 39.0\n",
      "Q3 : 51.0\n",
      "upper_tail : 87.0\n",
      "lower_tail : -9.0\n",
      "Mean: 39.20702541106129\n",
      "Median: 39.0\n"
     ]
    }
   ],
   "source": [
    "q1 = df['age'].quantile(0.25)\n",
    "q2 = df['age'].quantile(0.50)\n",
    "q3 = df['age'].quantile(0.75)\n",
    "iqr = q3 - q1\n",
    "upper_tail = q3 + 1.5 * iqr\n",
    "lower_tail = q1 - 1.5 * iqr\n",
    "mean = df['age'].mean()\n",
    "median = df['age'].median()\n",
    "\n",
    "print(\"Q1 :\", q1)\n",
    "print(\"Q2 :\", q2)\n",
    "print(\"Q3 :\", q3)\n",
    "print(\"upper_tail :\", upper_tail)\n",
    "print(\"lower_tail :\", lower_tail)\n",
    "print(\"Mean:\", mean)\n",
    "print(\"Median:\", median)"
   ]
  },
  {
   "cell_type": "markdown",
   "id": "14a47e23",
   "metadata": {},
   "source": [
    "### 4.2 sex"
   ]
  },
  {
   "cell_type": "code",
   "execution_count": 32,
   "id": "a14c27a2",
   "metadata": {},
   "outputs": [
    {
     "data": {
      "image/png": "[encoded data removed]",
      "text/plain": [
       "<Figure size 640x480 with 1 Axes>"
      ]
     },
     "metadata": {},
     "output_type": "display_data"
    }
   ],
   "source": [
    "sns.boxplot(x= df['sex'])\n",
    "plt.show()"
   ]
  },
  {
   "cell_type": "code",
   "execution_count": 33,
   "id": "d4949df1",
   "metadata": {},
   "outputs": [
    {
     "name": "stdout",
     "output_type": "stream",
     "text": [
      "Q1 : 0.0\n",
      "Q2 : 0.0\n",
      "Q3 : 1.0\n",
      "upper_tail : 2.5\n",
      "lower_tail : -1.5\n",
      "Mean: 0.4947683109118087\n",
      "Median: 0.0\n"
     ]
    }
   ],
   "source": [
    "q1 = df['sex'].quantile(0.25)\n",
    "q2 = df['sex'].quantile(0.50)\n",
    "q3 = df['sex'].quantile(0.75)\n",
    "iqr = q3 - q1\n",
    "upper_tail = q3 + 1.5 * iqr\n",
    "lower_tail = q1 - 1.5 * iqr\n",
    "mean = df['sex'].mean()\n",
    "median = df['sex'].median()\n",
    "\n",
    "print(\"Q1 :\", q1)\n",
    "print(\"Q2 :\", q2)\n",
    "print(\"Q3 :\", q3)\n",
    "print(\"upper_tail :\", upper_tail)\n",
    "print(\"lower_tail :\", lower_tail)\n",
    "print(\"Mean:\", mean)\n",
    "print(\"Median:\", median)"
   ]
  },
  {
   "cell_type": "markdown",
   "id": "2357ae1d",
   "metadata": {},
   "source": [
    "### 4.3 bmi"
   ]
  },
  {
   "cell_type": "code",
   "execution_count": 34,
   "id": "26bcfe09",
   "metadata": {},
   "outputs": [
    {
     "data": {
      "image/png": "[encoded data removed]",
      "text/plain": [
       "<Figure size 640x480 with 1 Axes>"
      ]
     },
     "metadata": {},
     "output_type": "display_data"
    }
   ],
   "source": [
    "sns.boxplot(x= df['bmi'])\n",
    "plt.show()"
   ]
  },
  {
   "cell_type": "code",
   "execution_count": 35,
   "id": "ef168418",
   "metadata": {},
   "outputs": [
    {
     "name": "stdout",
     "output_type": "stream",
     "text": [
      "Q1 : 26.29625\n",
      "Q2 : 30.4\n",
      "Q3 : 34.69375\n",
      "upper_tail : 47.290000000000006\n",
      "lower_tail : 13.7\n",
      "Mean: 30.663396860986538\n",
      "Median: 30.4\n"
     ]
    }
   ],
   "source": [
    "q1 = df['bmi'].quantile(0.25)\n",
    "q2 = df['bmi'].quantile(0.50)\n",
    "q3 = df['bmi'].quantile(0.75)\n",
    "iqr = q3 - q1\n",
    "upper_tail = q3 + 1.5 * iqr\n",
    "lower_tail = q1 - 1.5 * iqr\n",
    "mean = df['bmi'].mean()\n",
    "median = df['bmi'].median()\n",
    "\n",
    "print(\"Q1 :\", q1)\n",
    "print(\"Q2 :\", q2)\n",
    "print(\"Q3 :\", q3)\n",
    "print(\"upper_tail :\", upper_tail)\n",
    "print(\"lower_tail :\", lower_tail)\n",
    "print(\"Mean:\", mean)\n",
    "print(\"Median:\", median)"
   ]
  },
  {
   "cell_type": "code",
   "execution_count": 36,
   "id": "e567abad",
   "metadata": {},
   "outputs": [
    {
     "data": {
      "text/html": [
       "<div>\n",
       "<style scoped>\n",
       "    .dataframe tbody tr th:only-of-type {\n",
       "        vertical-align: middle;\n",
       "    }\n",
       "\n",
       "    .dataframe tbody tr th {\n",
       "        vertical-align: top;\n",
       "    }\n",
       "\n",
       "    .dataframe thead th {\n",
       "        text-align: right;\n",
       "    }\n",
       "</style>\n",
       "<table border=\"1\" class=\"dataframe\">\n",
       "  <thead>\n",
       "    <tr style=\"text-align: right;\">\n",
       "      <th></th>\n",
       "      <th>bmi</th>\n",
       "    </tr>\n",
       "  </thead>\n",
       "  <tbody>\n",
       "    <tr>\n",
       "      <th>116</th>\n",
       "      <td>49.06</td>\n",
       "    </tr>\n",
       "    <tr>\n",
       "      <th>286</th>\n",
       "      <td>48.07</td>\n",
       "    </tr>\n",
       "    <tr>\n",
       "      <th>401</th>\n",
       "      <td>47.52</td>\n",
       "    </tr>\n",
       "    <tr>\n",
       "      <th>543</th>\n",
       "      <td>47.41</td>\n",
       "    </tr>\n",
       "    <tr>\n",
       "      <th>847</th>\n",
       "      <td>50.38</td>\n",
       "    </tr>\n",
       "    <tr>\n",
       "      <th>860</th>\n",
       "      <td>47.60</td>\n",
       "    </tr>\n",
       "    <tr>\n",
       "      <th>1047</th>\n",
       "      <td>52.58</td>\n",
       "    </tr>\n",
       "    <tr>\n",
       "      <th>1088</th>\n",
       "      <td>47.74</td>\n",
       "    </tr>\n",
       "    <tr>\n",
       "      <th>1317</th>\n",
       "      <td>53.13</td>\n",
       "    </tr>\n",
       "  </tbody>\n",
       "</table>\n",
       "</div>"
      ],
      "text/plain": [
       "        bmi\n",
       "116   49.06\n",
       "286   48.07\n",
       "401   47.52\n",
       "543   47.41\n",
       "847   50.38\n",
       "860   47.60\n",
       "1047  52.58\n",
       "1088  47.74\n",
       "1317  53.13"
      ]
     },
     "execution_count": 36,
     "metadata": {},
     "output_type": "execute_result"
    }
   ],
   "source": [
    "df[['bmi']].loc[df['bmi']>upper_tail]"
   ]
  },
  {
   "cell_type": "code",
   "execution_count": 37,
   "id": "245a4dc0",
   "metadata": {},
   "outputs": [],
   "source": [
    "df.loc[(df['bmi']>upper_tail),'bmi'] = upper_tail"
   ]
  },
  {
   "cell_type": "code",
   "execution_count": 38,
   "id": "f3370727",
   "metadata": {},
   "outputs": [
    {
     "data": {
      "image/png": "[encoded data removed]",
      "text/plain": [
       "<Figure size 640x480 with 1 Axes>"
      ]
     },
     "metadata": {},
     "output_type": "display_data"
    }
   ],
   "source": [
    "sns.boxplot(x= df['bmi'])\n",
    "plt.show()"
   ]
  },
  {
   "cell_type": "markdown",
   "id": "cf378abf",
   "metadata": {},
   "source": [
    "### 4.4 children"
   ]
  },
  {
   "cell_type": "code",
   "execution_count": 39,
   "id": "3db4b3cc",
   "metadata": {},
   "outputs": [
    {
     "data": {
      "image/png": "[encoded data removed]",
      "text/plain": [
       "<Figure size 640x480 with 1 Axes>"
      ]
     },
     "metadata": {},
     "output_type": "display_data"
    }
   ],
   "source": [
    "sns.boxplot(x= df['children'])\n",
    "plt.show()"
   ]
  },
  {
   "cell_type": "code",
   "execution_count": 40,
   "id": "d61405de",
   "metadata": {},
   "outputs": [
    {
     "name": "stdout",
     "output_type": "stream",
     "text": [
      "Q1 : 0.0\n",
      "Q2 : 1.0\n",
      "Q3 : 2.0\n",
      "upper_tail : 5.0\n",
      "lower_tail : -3.0\n",
      "Mean: 1.0949177877429\n",
      "Median: 1.0\n"
     ]
    }
   ],
   "source": [
    "q1 = df['children'].quantile(0.25)\n",
    "q2 = df['children'].quantile(0.50)\n",
    "q3 = df['children'].quantile(0.75)\n",
    "iqr = q3 - q1\n",
    "upper_tail = q3 + 1.5 * iqr\n",
    "lower_tail = q1 - 1.5 * iqr\n",
    "mean = df['children'].mean()\n",
    "median = df['children'].median()\n",
    "\n",
    "print(\"Q1 :\", q1)\n",
    "print(\"Q2 :\", q2)\n",
    "print(\"Q3 :\", q3)\n",
    "print(\"upper_tail :\", upper_tail)\n",
    "print(\"lower_tail :\", lower_tail)\n",
    "print(\"Mean:\", mean)\n",
    "print(\"Median:\", median)"
   ]
  },
  {
   "cell_type": "markdown",
   "id": "a1e5e285",
   "metadata": {},
   "source": [
    "### 4.5 smoker"
   ]
  },
  {
   "cell_type": "code",
   "execution_count": 41,
   "id": "d32a9a88",
   "metadata": {},
   "outputs": [
    {
     "data": {
      "image/png": "[encoded data removed]",
      "text/plain": [
       "<Figure size 640x480 with 1 Axes>"
      ]
     },
     "metadata": {},
     "output_type": "display_data"
    }
   ],
   "source": [
    "sns.boxplot(x= df['smoker'])\n",
    "plt.show()"
   ]
  },
  {
   "cell_type": "code",
   "execution_count": 42,
   "id": "2a881c37",
   "metadata": {},
   "outputs": [
    {
     "name": "stdout",
     "output_type": "stream",
     "text": [
      "Q1 : 0.0\n",
      "Q2 : 0.0\n",
      "Q3 : 0.0\n",
      "upper_tail : 0.0\n",
      "lower_tail : 0.0\n",
      "Mean: 0.20478325859491778\n",
      "Median: 0.0\n"
     ]
    }
   ],
   "source": [
    "q1 = df['smoker'].quantile(0.25)\n",
    "q2 = df['smoker'].quantile(0.50)\n",
    "q3 = df['smoker'].quantile(0.75)\n",
    "iqr = q3 - q1\n",
    "upper_tail = q3 + 1.5 * iqr\n",
    "lower_tail = q1 - 1.5 * iqr\n",
    "mean = df['smoker'].mean()\n",
    "median = df['smoker'].median()\n",
    "\n",
    "print(\"Q1 :\", q1)\n",
    "print(\"Q2 :\", q2)\n",
    "print(\"Q3 :\", q3)\n",
    "print(\"upper_tail :\", upper_tail)\n",
    "print(\"lower_tail :\", lower_tail)\n",
    "print(\"Mean:\", mean)\n",
    "print(\"Median:\", median)"
   ]
  },
  {
   "cell_type": "markdown",
   "id": "118f669b",
   "metadata": {},
   "source": [
    "### 4.6 charges"
   ]
  },
  {
   "cell_type": "code",
   "execution_count": 43,
   "id": "d9854a6e",
   "metadata": {},
   "outputs": [
    {
     "data": {
      "image/png": "[encoded data removed]",
      "text/plain": [
       "<Figure size 640x480 with 1 Axes>"
      ]
     },
     "metadata": {},
     "output_type": "display_data"
    }
   ],
   "source": [
    "sns.boxplot(x= df['charges'])\n",
    "plt.show()"
   ]
  },
  {
   "cell_type": "code",
   "execution_count": 44,
   "id": "bc24a926",
   "metadata": {},
   "outputs": [
    {
     "name": "stdout",
     "output_type": "stream",
     "text": [
      "Q1 : 4740.28715\n",
      "Q2 : 9382.033\n",
      "Q3 : 16639.912515\n",
      "upper_tail : 34489.350562499996\n",
      "lower_tail : -13109.1508975\n",
      "Mean: 13270.422265141257\n",
      "Median: 9382.033\n"
     ]
    }
   ],
   "source": [
    "q1 = df['charges'].quantile(0.25)\n",
    "q2 = df['charges'].quantile(0.50)\n",
    "q3 = df['charges'].quantile(0.75)\n",
    "iqr = q3 - q1\n",
    "upper_tail = q3 + 1.5 * iqr\n",
    "lower_tail = q1 - 1.5 * iqr\n",
    "mean = df['charges'].mean()\n",
    "median = df['charges'].median()\n",
    "\n",
    "print(\"Q1 :\", q1)\n",
    "print(\"Q2 :\", q2)\n",
    "print(\"Q3 :\", q3)\n",
    "print(\"upper_tail :\", upper_tail)\n",
    "print(\"lower_tail :\", lower_tail)\n",
    "print(\"Mean:\", mean)\n",
    "print(\"Median:\", median)"
   ]
  },
  {
   "cell_type": "markdown",
   "id": "f5be0986",
   "metadata": {},
   "source": [
    "# 5. Feature Selection"
   ]
  },
  {
   "cell_type": "code",
   "execution_count": 45,
   "id": "726532fc",
   "metadata": {},
   "outputs": [
    {
     "name": "stdout",
     "output_type": "stream",
     "text": [
      "<class 'pandas.core.frame.DataFrame'>\n",
      "RangeIndex: 1338 entries, 0 to 1337\n",
      "Data columns (total 10 columns):\n",
      " #   Column            Non-Null Count  Dtype  \n",
      "---  ------            --------------  -----  \n",
      " 0   age               1338 non-null   int64  \n",
      " 1   sex               1338 non-null   int64  \n",
      " 2   bmi               1338 non-null   float64\n",
      " 3   children          1338 non-null   int64  \n",
      " 4   smoker            1338 non-null   int64  \n",
      " 5   charges           1338 non-null   float64\n",
      " 6   region_northeast  1338 non-null   uint8  \n",
      " 7   region_northwest  1338 non-null   uint8  \n",
      " 8   region_southeast  1338 non-null   uint8  \n",
      " 9   region_southwest  1338 non-null   uint8  \n",
      "dtypes: float64(2), int64(4), uint8(4)\n",
      "memory usage: 68.1 KB\n"
     ]
    }
   ],
   "source": [
    "df.info()"
   ]
  },
  {
   "cell_type": "markdown",
   "id": "2b77f27f",
   "metadata": {},
   "source": [
    "## 1) Linearity"
   ]
  },
  {
   "cell_type": "code",
   "execution_count": 46,
   "id": "9d748090",
   "metadata": {},
   "outputs": [
    {
     "data": {
      "text/html": [
       "<div>\n",
       "<style scoped>\n",
       "    .dataframe tbody tr th:only-of-type {\n",
       "        vertical-align: middle;\n",
       "    }\n",
       "\n",
       "    .dataframe tbody tr th {\n",
       "        vertical-align: top;\n",
       "    }\n",
       "\n",
       "    .dataframe thead th {\n",
       "        text-align: right;\n",
       "    }\n",
       "</style>\n",
       "<table border=\"1\" class=\"dataframe\">\n",
       "  <thead>\n",
       "    <tr style=\"text-align: right;\">\n",
       "      <th></th>\n",
       "      <th>charges</th>\n",
       "    </tr>\n",
       "  </thead>\n",
       "  <tbody>\n",
       "    <tr>\n",
       "      <th>age</th>\n",
       "      <td>0.299008</td>\n",
       "    </tr>\n",
       "    <tr>\n",
       "      <th>sex</th>\n",
       "      <td>-0.057292</td>\n",
       "    </tr>\n",
       "    <tr>\n",
       "      <th>bmi</th>\n",
       "      <td>0.198997</td>\n",
       "    </tr>\n",
       "    <tr>\n",
       "      <th>children</th>\n",
       "      <td>0.067998</td>\n",
       "    </tr>\n",
       "    <tr>\n",
       "      <th>smoker</th>\n",
       "      <td>0.787251</td>\n",
       "    </tr>\n",
       "    <tr>\n",
       "      <th>charges</th>\n",
       "      <td>1.000000</td>\n",
       "    </tr>\n",
       "    <tr>\n",
       "      <th>region_northeast</th>\n",
       "      <td>0.006349</td>\n",
       "    </tr>\n",
       "    <tr>\n",
       "      <th>region_northwest</th>\n",
       "      <td>-0.039905</td>\n",
       "    </tr>\n",
       "    <tr>\n",
       "      <th>region_southeast</th>\n",
       "      <td>0.073982</td>\n",
       "    </tr>\n",
       "    <tr>\n",
       "      <th>region_southwest</th>\n",
       "      <td>-0.043210</td>\n",
       "    </tr>\n",
       "  </tbody>\n",
       "</table>\n",
       "</div>"
      ],
      "text/plain": [
       "                   charges\n",
       "age               0.299008\n",
       "sex              -0.057292\n",
       "bmi               0.198997\n",
       "children          0.067998\n",
       "smoker            0.787251\n",
       "charges           1.000000\n",
       "region_northeast  0.006349\n",
       "region_northwest -0.039905\n",
       "region_southeast  0.073982\n",
       "region_southwest -0.043210"
      ]
     },
     "execution_count": 46,
     "metadata": {},
     "output_type": "execute_result"
    }
   ],
   "source": [
    "corr=df.corr()[['charges']]\n",
    "corr"
   ]
  },
  {
   "cell_type": "code",
   "execution_count": 47,
   "id": "5704cd48",
   "metadata": {},
   "outputs": [
    {
     "data": {
      "image/png": "[encoded data removed]",
      "text/plain": [
       "<Figure size 200x500 with 2 Axes>"
      ]
     },
     "metadata": {},
     "output_type": "display_data"
    }
   ],
   "source": [
    "plt.figure(figsize=(2,5))\n",
    "sns.heatmap(corr,annot=True)\n",
    "plt.show()"
   ]
  },
  {
   "cell_type": "markdown",
   "id": "c74487d5",
   "metadata": {},
   "source": [
    "## 2) No-Multicolinearity"
   ]
  },
  {
   "cell_type": "code",
   "execution_count": 48,
   "id": "1a36b4e6",
   "metadata": {},
   "outputs": [
    {
     "data": {
      "text/plain": [
       "[1.0174619308223145,\n",
       " 1.0087553624732215,\n",
       " 1.1064200096251202,\n",
       " 1.0040334014255623,\n",
       " 1.0120840759479972,\n",
       " 8.865149827585912,\n",
       " 8.91160479430872,\n",
       " 11.842297441785252,\n",
       " 9.498543764746326]"
      ]
     },
     "execution_count": 48,
     "metadata": {},
     "output_type": "execute_result"
    }
   ],
   "source": [
    "vif_list = []\n",
    "x = df.drop(\"charges\", axis=1)\n",
    "for i in range(x.shape[1]):\n",
    "    vif=variance_inflation_factor(x,i)\n",
    "    vif_list.append(vif)\n",
    "vif_list"
   ]
  },
  {
   "cell_type": "code",
   "execution_count": 49,
   "id": "af4d2382",
   "metadata": {},
   "outputs": [
    {
     "data": {
      "image/png": "[encoded data removed]",
      "text/plain": [
       "<Figure size 640x480 with 1 Axes>"
      ]
     },
     "metadata": {},
     "output_type": "display_data"
    }
   ],
   "source": [
    "s1 = pd.Series(vif_list, index=x.columns)\n",
    "s1.sort_values().plot(kind = \"barh\")\n",
    "plt.show()"
   ]
  },
  {
   "cell_type": "markdown",
   "id": "041b8d2e",
   "metadata": {},
   "source": [
    "# 6 Model Building"
   ]
  },
  {
   "cell_type": "code",
   "execution_count": 50,
   "id": "c764c9ed",
   "metadata": {},
   "outputs": [],
   "source": [
    "x=df.drop(['charges'], axis=1)\n",
    "y=df['charges']"
   ]
  },
  {
   "cell_type": "code",
   "execution_count": 51,
   "id": "d9cb8993",
   "metadata": {},
   "outputs": [],
   "source": [
    "x_train,x_test,y_train,y_test=train_test_split(x,y, test_size=0.2, random_state=12)"
   ]
  },
  {
   "cell_type": "markdown",
   "id": "f1fd8d9d",
   "metadata": {},
   "source": [
    "## 6.1 Linear Regression Model"
   ]
  },
  {
   "cell_type": "code",
   "execution_count": 52,
   "id": "1f4ac877",
   "metadata": {},
   "outputs": [
    {
     "data": {
      "text/plain": [
       "LinearRegression()"
      ]
     },
     "execution_count": 52,
     "metadata": {},
     "output_type": "execute_result"
    }
   ],
   "source": [
    "linear_model=LinearRegression()\n",
    "linear_model.fit(x_train, y_train)"
   ]
  },
  {
   "cell_type": "code",
   "execution_count": 53,
   "id": "5fe7d078",
   "metadata": {},
   "outputs": [
    {
     "data": {
      "text/plain": [
       "array([  261.44658888,    56.27442016,   343.75148376,   406.09626429,\n",
       "       23853.11221434,   385.21768814,    85.74168938,  -302.25768432,\n",
       "        -168.7016932 ])"
      ]
     },
     "execution_count": 53,
     "metadata": {},
     "output_type": "execute_result"
    }
   ],
   "source": [
    "linear_model.coef_"
   ]
  },
  {
   "cell_type": "code",
   "execution_count": 54,
   "id": "2bc02d02",
   "metadata": {},
   "outputs": [
    {
     "data": {
      "text/plain": [
       "-12886.500759700084"
      ]
     },
     "execution_count": 54,
     "metadata": {},
     "output_type": "execute_result"
    }
   ],
   "source": [
    "linear_model.intercept_"
   ]
  },
  {
   "cell_type": "markdown",
   "id": "0e9bb8fe",
   "metadata": {},
   "source": [
    "#### Model Evaluation of Linear Regression"
   ]
  },
  {
   "cell_type": "code",
   "execution_count": 55,
   "id": "6d739d2e",
   "metadata": {},
   "outputs": [
    {
     "name": "stdout",
     "output_type": "stream",
     "text": [
      "MSE= 35236170.2234276\n",
      "RMSE= 5936.006251970057\n",
      "MAE= 4146.840595966165\n",
      "R2_Score= 0.760570704937222\n",
      "Adj_R2_Score= 0.7585378146961229\n"
     ]
    }
   ],
   "source": [
    "# Evaluation of Training Data\n",
    "\n",
    "y_pred_train=linear_model.predict(x_train)\n",
    "\n",
    "mse=mean_squared_error(y_train,y_pred_train)\n",
    "print(\"MSE=\",mse)\n",
    "\n",
    "rmse=np.sqrt(mse)\n",
    "print(\"RMSE=\",rmse)\n",
    "\n",
    "mae=mean_absolute_error(y_train,y_pred_train)\n",
    "print(\"MAE=\",mae)\n",
    "\n",
    "r_squared_value=r2_score(y_train,y_pred_train)\n",
    "print(\"R2_Score=\",r_squared_value)\n",
    "\n",
    "adj_r2=1-(((1-r_squared_value)*(x_train.shape[0]-1))/\n",
    "        (x_train.shape[0]-1-x_train.shape[1]))\n",
    "print(\"Adj_R2_Score=\",adj_r2)"
   ]
  },
  {
   "cell_type": "code",
   "execution_count": 56,
   "id": "5d43508c",
   "metadata": {},
   "outputs": [
    {
     "name": "stdout",
     "output_type": "stream",
     "text": [
      "MSE= 41709925.831768945\n",
      "RMSE= 6458.322214923079\n",
      "MAE= 4321.048727460817\n",
      "R2_Score= 0.7103707081881969\n",
      "Adj_R2_Score= 0.7002673607994131\n"
     ]
    }
   ],
   "source": [
    "# Evaluation of Testing Data\n",
    "\n",
    "y_pred_test=linear_model.predict(x_test)\n",
    "\n",
    "mse=mean_squared_error(y_test,y_pred_test)\n",
    "print(\"MSE=\",mse)\n",
    "\n",
    "rmse=np.sqrt(mse)\n",
    "print(\"RMSE=\",rmse)\n",
    "\n",
    "mae=mean_absolute_error(y_test,y_pred_test)\n",
    "print(\"MAE=\",mae)\n",
    "\n",
    "r_squared_value=r2_score(y_test,y_pred_test)\n",
    "print(\"R2_Score=\",r_squared_value)\n",
    "\n",
    "adj_r2=1-(((1-r_squared_value)*(x_test.shape[0]-1))/\n",
    "        (x_test.shape[0]-1-x_test.shape[1]))\n",
    "print(\"Adj_R2_Score=\",adj_r2)"
   ]
  },
  {
   "cell_type": "markdown",
   "id": "292d1f4d",
   "metadata": {},
   "source": [
    "## 3) Normality of Residuals"
   ]
  },
  {
   "cell_type": "code",
   "execution_count": 57,
   "id": "0037623d",
   "metadata": {},
   "outputs": [],
   "source": [
    "Residuals=y_train-y_pred_train"
   ]
  },
  {
   "cell_type": "markdown",
   "id": "df746468",
   "metadata": {},
   "source": [
    "#### 3.1 KDE Plot"
   ]
  },
  {
   "cell_type": "code",
   "execution_count": 58,
   "id": "4ae24253",
   "metadata": {},
   "outputs": [
    {
     "data": {
      "image/png": "[encoded data removed]",
      "text/plain": [
       "<Figure size 640x480 with 1 Axes>"
      ]
     },
     "metadata": {},
     "output_type": "display_data"
    }
   ],
   "source": [
    "sns.kdeplot(Residuals)\n",
    "plt.show()"
   ]
  },
  {
   "cell_type": "code",
   "execution_count": 59,
   "id": "40dbe13f",
   "metadata": {},
   "outputs": [
    {
     "data": {
      "text/plain": [
       "1.1282316398792205"
      ]
     },
     "execution_count": 59,
     "metadata": {},
     "output_type": "execute_result"
    }
   ],
   "source": [
    "skewness=skew(Residuals)\n",
    "skewness"
   ]
  },
  {
   "cell_type": "raw",
   "id": "4be7bb59",
   "metadata": {},
   "source": [
    "Here skewness > 0.5 --> Data is positively Skewed"
   ]
  },
  {
   "cell_type": "markdown",
   "id": "d8fd2db9",
   "metadata": {},
   "source": [
    "#### 3.2 Hypothesis Testing"
   ]
  },
  {
   "cell_type": "markdown",
   "id": "dc86a932",
   "metadata": {},
   "source": [
    "##### Shapiro Test"
   ]
  },
  {
   "cell_type": "code",
   "execution_count": 60,
   "id": "ad6771b0",
   "metadata": {},
   "outputs": [
    {
     "name": "stdout",
     "output_type": "stream",
     "text": [
      "P_Value: 9.028639277999315e-25\n",
      "Null Hypothesis is Rejected >> Alternate Hypothesis is Accepted\n",
      "Data is NOT Normally Distributed\n"
     ]
    }
   ],
   "source": [
    "_,p_val=shapiro(Residuals)\n",
    "print(\"P_Value:\",p_val)\n",
    "\n",
    "if p_val >= 0.05:\n",
    "    print(\"Null Hypothesis is Accepted\")\n",
    "    print(\"Data is Normally Distributed\")\n",
    "    \n",
    "else:\n",
    "    print(\"Null Hypothesis is Rejected >> Alternate Hypothesis is Accepted\")\n",
    "    print(\"Data is NOT Normally Distributed\")"
   ]
  },
  {
   "cell_type": "markdown",
   "id": "ecae9410",
   "metadata": {},
   "source": [
    "##### KS Test"
   ]
  },
  {
   "cell_type": "code",
   "execution_count": 61,
   "id": "c539f5a4",
   "metadata": {},
   "outputs": [
    {
     "name": "stdout",
     "output_type": "stream",
     "text": [
      "P_Value: 0.0\n",
      "Null Hypothesis is Rejected >> Alternate Hypothesis is Accepted\n",
      "Data is NOT Normally Distributed\n"
     ]
    }
   ],
   "source": [
    "_,p_val=kstest(Residuals, 'norm')\n",
    "print(\"P_Value:\",p_val)\n",
    "\n",
    "if p_val >= 0.05:\n",
    "    print(\"Null Hypothesis is Accepted\")\n",
    "    print(\"Data is Normally Distributed\")\n",
    "    \n",
    "else:\n",
    "    print(\"Null Hypothesis is Rejected >> Alternate Hypothesis is Accepted\")\n",
    "    print(\"Data is NOT Normally Distributed\")"
   ]
  },
  {
   "cell_type": "markdown",
   "id": "eab54283",
   "metadata": {},
   "source": [
    "##### Normal Test"
   ]
  },
  {
   "cell_type": "code",
   "execution_count": 62,
   "id": "a338af06",
   "metadata": {},
   "outputs": [
    {
     "name": "stdout",
     "output_type": "stream",
     "text": [
      "P_Value: 8.72115320261946e-48\n",
      "Null Hypothesis is Rejected >> Alternate Hypothesis is Accepted\n",
      "Data is NOT Normally Distributed\n"
     ]
    }
   ],
   "source": [
    "_,p_val=normaltest(Residuals)\n",
    "print(\"P_Value:\",p_val)\n",
    "\n",
    "if p_val >= 0.05:\n",
    "    print(\"Null Hypothesis is Accepted\")\n",
    "    print(\"Data is Normally Distributed\")\n",
    "    \n",
    "else:\n",
    "    print(\"Null Hypothesis is Rejected >> Alternate Hypothesis is Accepted\")\n",
    "    print(\"Data is NOT Normally Distributed\")"
   ]
  },
  {
   "cell_type": "markdown",
   "id": "5ad78ad0",
   "metadata": {},
   "source": [
    "#### 3.3 Q-Q Plot"
   ]
  },
  {
   "cell_type": "code",
   "execution_count": 63,
   "id": "2400c5de",
   "metadata": {},
   "outputs": [
    {
     "data": {
      "image/png": "[encoded data removed]",
      "text/plain": [
       "<Figure size 640x480 with 1 Axes>"
      ]
     },
     "execution_count": 63,
     "metadata": {},
     "output_type": "execute_result"
    },
    {
     "data": {
      "image/png": "[encoded data removed]",
      "text/plain": [
       "<Figure size 640x480 with 1 Axes>"
      ]
     },
     "metadata": {},
     "output_type": "display_data"
    }
   ],
   "source": [
    "import statsmodels.api as sm\n",
    "\n",
    "sm.qqplot(Residuals, line='45', fit=True)"
   ]
  },
  {
   "cell_type": "markdown",
   "id": "56353c44",
   "metadata": {},
   "source": [
    "## 4) Homoscedasticity"
   ]
  },
  {
   "cell_type": "code",
   "execution_count": 64,
   "id": "21d5f040",
   "metadata": {},
   "outputs": [
    {
     "data": {
      "image/png": "[encoded data removed]",
      "text/plain": [
       "<Figure size 640x480 with 1 Axes>"
      ]
     },
     "metadata": {},
     "output_type": "display_data"
    }
   ],
   "source": [
    "sns.scatterplot(x=y_train, y=Residuals)\n",
    "plt.show()"
   ]
  },
  {
   "cell_type": "markdown",
   "id": "3afc4f83",
   "metadata": {},
   "source": [
    "## 6.2 Ridge Regression Model"
   ]
  },
  {
   "cell_type": "code",
   "execution_count": 65,
   "id": "d0b3fd4a",
   "metadata": {},
   "outputs": [
    {
     "data": {
      "text/plain": [
       "Ridge()"
      ]
     },
     "execution_count": 65,
     "metadata": {},
     "output_type": "execute_result"
    }
   ],
   "source": [
    "# Create Instance\n",
    "ridge_model=Ridge(alpha=1.0)    # alpha=1.0 bydefault in Ridge and Lasso\n",
    "\n",
    "# Model Fitting\n",
    "ridge_model.fit(x_train,y_train)"
   ]
  },
  {
   "cell_type": "code",
   "execution_count": 66,
   "id": "a1fa7432",
   "metadata": {},
   "outputs": [
    {
     "data": {
      "text/plain": [
       "array([  261.31086574,    48.38170213,   343.61466619,   406.52334068,\n",
       "       23717.8767065 ,   386.61175767,    81.95848672,  -297.66218282,\n",
       "        -170.90806157])"
      ]
     },
     "execution_count": 66,
     "metadata": {},
     "output_type": "execute_result"
    }
   ],
   "source": [
    "ridge_model.coef_"
   ]
  },
  {
   "cell_type": "code",
   "execution_count": 67,
   "id": "488de976",
   "metadata": {},
   "outputs": [
    {
     "data": {
      "text/plain": [
       "-12845.398830051097"
      ]
     },
     "execution_count": 67,
     "metadata": {},
     "output_type": "execute_result"
    }
   ],
   "source": [
    "ridge_model.intercept_"
   ]
  },
  {
   "cell_type": "markdown",
   "id": "06e51b9f",
   "metadata": {},
   "source": [
    "#### Model Evaluation of Ridge Regression"
   ]
  },
  {
   "cell_type": "code",
   "execution_count": 68,
   "id": "79955465",
   "metadata": {},
   "outputs": [
    {
     "name": "stdout",
     "output_type": "stream",
     "text": [
      "MSE= 35239168.869922146\n",
      "RMSE= 5936.25882774009\n",
      "MAE= 4157.0152211279565\n",
      "R2_Score= 0.7605503291752769\n",
      "Adj_R2_Score= 0.7585172659324254\n"
     ]
    }
   ],
   "source": [
    "# Evaluation of Training Data\n",
    "\n",
    "y_pred_train=ridge_model.predict(x_train)\n",
    "\n",
    "mse=mean_squared_error(y_train,y_pred_train)\n",
    "print(\"MSE=\",mse)\n",
    "\n",
    "rmse=np.sqrt(mse)\n",
    "print(\"RMSE=\",rmse)\n",
    "\n",
    "mae=mean_absolute_error(y_train,y_pred_train)\n",
    "print(\"MAE=\",mae)\n",
    "\n",
    "r_squared_value=r2_score(y_train,y_pred_train)\n",
    "print(\"R2_Score=\",r_squared_value)\n",
    "\n",
    "adj_r2=1-(((1-r_squared_value)*(x_train.shape[0]-1))/\n",
    "        (x_train.shape[0]-1-x_train.shape[1]))\n",
    "print(\"Adj_R2_Score=\",adj_r2)"
   ]
  },
  {
   "cell_type": "code",
   "execution_count": 69,
   "id": "0bf8dfcd",
   "metadata": {},
   "outputs": [
    {
     "name": "stdout",
     "output_type": "stream",
     "text": [
      "MSE= 41710755.10282142\n",
      "RMSE= 6458.386416344366\n",
      "MAE= 4328.939725517464\n",
      "R2_Score= 0.7103649498181481\n",
      "Adj_R2_Score= 0.7002614015559905\n"
     ]
    }
   ],
   "source": [
    "# Evaluation of Testing Data\n",
    "\n",
    "y_pred_test=ridge_model.predict(x_test)\n",
    "\n",
    "mse=mean_squared_error(y_test,y_pred_test)\n",
    "print(\"MSE=\",mse)\n",
    "\n",
    "rmse=np.sqrt(mse)\n",
    "print(\"RMSE=\",rmse)\n",
    "\n",
    "mae=mean_absolute_error(y_test,y_pred_test)\n",
    "print(\"MAE=\",mae)\n",
    "\n",
    "r_squared_value=r2_score(y_test,y_pred_test)\n",
    "print(\"R2_Score=\",r_squared_value)\n",
    "\n",
    "adj_r2=1-(((1-r_squared_value)*(x_test.shape[0]-1))/\n",
    "        (x_test.shape[0]-1-x_test.shape[1]))\n",
    "print(\"Adj_R2_Score=\",adj_r2)"
   ]
  },
  {
   "cell_type": "markdown",
   "id": "9ddfed23",
   "metadata": {},
   "source": [
    "## 6.3 Lasso Regression Model "
   ]
  },
  {
   "cell_type": "code",
   "execution_count": 70,
   "id": "0445be1f",
   "metadata": {},
   "outputs": [
    {
     "data": {
      "text/plain": [
       "Lasso()"
      ]
     },
     "execution_count": 70,
     "metadata": {},
     "output_type": "execute_result"
    }
   ],
   "source": [
    "# Create Instance\n",
    "lasso_model=Lasso(alpha=1.0)    # alpha=1.0 bydefault in Ridge and Lasso\n",
    "\n",
    "# Model Fitting\n",
    "lasso_model.fit(x_train,y_train)"
   ]
  },
  {
   "cell_type": "code",
   "execution_count": 71,
   "id": "a5dffd46",
   "metadata": {},
   "outputs": [
    {
     "data": {
      "text/plain": [
       "array([  261.45520289,    51.68241767,   343.55331453,   405.42968053,\n",
       "       23846.57186308,   546.9670468 ,   246.92560366,  -132.34446151,\n",
       "          -0.        ])"
      ]
     },
     "execution_count": 71,
     "metadata": {},
     "output_type": "execute_result"
    }
   ],
   "source": [
    "lasso_model.coef_"
   ]
  },
  {
   "cell_type": "code",
   "execution_count": 72,
   "id": "78a1259c",
   "metadata": {},
   "outputs": [
    {
     "data": {
      "text/plain": [
       "-13041.98099793219"
      ]
     },
     "execution_count": 72,
     "metadata": {},
     "output_type": "execute_result"
    }
   ],
   "source": [
    "lasso_model.intercept_"
   ]
  },
  {
   "cell_type": "markdown",
   "id": "475d8250",
   "metadata": {},
   "source": [
    "#### Model Evaluation of Lasso Regression"
   ]
  },
  {
   "cell_type": "code",
   "execution_count": 73,
   "id": "04c0af9b",
   "metadata": {},
   "outputs": [
    {
     "name": "stdout",
     "output_type": "stream",
     "text": [
      "MSE= 35236196.56004491\n",
      "RMSE= 5936.008470348143\n",
      "MAE= 4147.319475820372\n",
      "R2_Score= 0.7605705259802673\n",
      "Adj_R2_Score= 0.7585376342197224\n"
     ]
    }
   ],
   "source": [
    "# Evaluation of Training Data\n",
    "\n",
    "y_pred_train=lasso_model.predict(x_train)\n",
    "\n",
    "mse=mean_squared_error(y_train,y_pred_train)\n",
    "print(\"MSE=\",mse)\n",
    "\n",
    "rmse=np.sqrt(mse)\n",
    "print(\"RMSE=\",rmse)\n",
    "\n",
    "mae=mean_absolute_error(y_train,y_pred_train)\n",
    "print(\"MAE=\",mae)\n",
    "\n",
    "r_squared_value=r2_score(y_train,y_pred_train)\n",
    "print(\"R2_Score=\",r_squared_value)\n",
    "\n",
    "adj_r2=1-(((1-r_squared_value)*(x_train.shape[0]-1))/\n",
    "        (x_train.shape[0]-1-x_train.shape[1]))\n",
    "print(\"Adj_R2_Score=\",adj_r2)"
   ]
  },
  {
   "cell_type": "code",
   "execution_count": 74,
   "id": "2be4f231",
   "metadata": {},
   "outputs": [
    {
     "name": "stdout",
     "output_type": "stream",
     "text": [
      "MSE= 41717493.51686077\n",
      "RMSE= 6458.908074656332\n",
      "MAE= 4321.18931242825\n",
      "R2_Score= 0.7103181589872551\n",
      "Adj_R2_Score= 0.7002129784868105\n"
     ]
    }
   ],
   "source": [
    "# Evaluation of Testing Data\n",
    "\n",
    "y_pred_test=lasso_model.predict(x_test)\n",
    "\n",
    "mse=mean_squared_error(y_test,y_pred_test)\n",
    "print(\"MSE=\",mse)\n",
    "\n",
    "rmse=np.sqrt(mse)\n",
    "print(\"RMSE=\",rmse)\n",
    "\n",
    "mae=mean_absolute_error(y_test,y_pred_test)\n",
    "print(\"MAE=\",mae)\n",
    "\n",
    "r_squared_value=r2_score(y_test,y_pred_test)\n",
    "print(\"R2_Score=\",r_squared_value)\n",
    "\n",
    "adj_r2=1-(((1-r_squared_value)*(x_test.shape[0]-1))/\n",
    "        (x_test.shape[0]-1-x_test.shape[1]))\n",
    "print(\"Adj_R2_Score=\",adj_r2)"
   ]
  },
  {
   "cell_type": "markdown",
   "id": "8bc2cd12",
   "metadata": {},
   "source": [
    "## 6.4 Hyperparameter Tunning"
   ]
  },
  {
   "cell_type": "markdown",
   "id": "b24807dd",
   "metadata": {},
   "source": [
    "### Hyperparameter Tunning for Ridge Regression Model"
   ]
  },
  {
   "cell_type": "markdown",
   "id": "2120f81b",
   "metadata": {},
   "source": [
    "#### 1) GridSearchCV"
   ]
  },
  {
   "cell_type": "code",
   "execution_count": 75,
   "id": "73ee2b03",
   "metadata": {},
   "outputs": [
    {
     "data": {
      "text/plain": [
       "GridSearchCV(estimator=Ridge(), n_jobs=-1,\n",
       "             param_grid={'alpha': array([0.01, 0.02, 0.03, 0.04, 0.05, 0.06, 0.07, 0.08, 0.09, 0.1 , 0.11,\n",
       "       0.12, 0.13, 0.14, 0.15, 0.16, 0.17, 0.18, 0.19, 0.2 , 0.21, 0.22,\n",
       "       0.23, 0.24, 0.25, 0.26, 0.27, 0.28, 0.29, 0.3 , 0.31, 0.32, 0.33,\n",
       "       0.34, 0.35, 0.36, 0.37, 0.38, 0.39, 0.4 , 0.41, 0.42, 0.43, 0.44,\n",
       "       0.45, 0.46, 0.47, 0.48, 0.49, 0.5 , 0.51, 0.52, 0.53, 0.54, 0.55,\n",
       "       0.56, 0.57, 0....\n",
       "       2.21, 2.22, 2.23, 2.24, 2.25, 2.26, 2.27, 2.28, 2.29, 2.3 , 2.31,\n",
       "       2.32, 2.33, 2.34, 2.35, 2.36, 2.37, 2.38, 2.39, 2.4 , 2.41, 2.42,\n",
       "       2.43, 2.44, 2.45, 2.46, 2.47, 2.48, 2.49, 2.5 , 2.51, 2.52, 2.53,\n",
       "       2.54, 2.55, 2.56, 2.57, 2.58, 2.59, 2.6 , 2.61, 2.62, 2.63, 2.64,\n",
       "       2.65, 2.66, 2.67, 2.68, 2.69, 2.7 , 2.71, 2.72, 2.73, 2.74, 2.75,\n",
       "       2.76, 2.77, 2.78, 2.79, 2.8 , 2.81, 2.82, 2.83, 2.84, 2.85, 2.86,\n",
       "       2.87, 2.88, 2.89, 2.9 , 2.91, 2.92, 2.93, 2.94, 2.95, 2.96, 2.97,\n",
       "       2.98, 2.99])})"
      ]
     },
     "execution_count": 75,
     "metadata": {},
     "output_type": "execute_result"
    }
   ],
   "source": [
    "ridge_model = Ridge()   # Model instance\n",
    "\n",
    "param_grid = {\"alpha\": np.arange(0.01,3,0.01)}   # Defined param_grid\n",
    "\n",
    "gscv_ridge_model = GridSearchCV(ridge_model, param_grid, n_jobs=-1)\n",
    "\n",
    "gscv_ridge_model.fit(x_train, y_train)"
   ]
  },
  {
   "cell_type": "code",
   "execution_count": 76,
   "id": "41a0a250",
   "metadata": {},
   "outputs": [
    {
     "data": {
      "text/plain": [
       "Ridge(alpha=0.49)"
      ]
     },
     "execution_count": 76,
     "metadata": {},
     "output_type": "execute_result"
    }
   ],
   "source": [
    "gscv_ridge_model.best_estimator_"
   ]
  },
  {
   "cell_type": "markdown",
   "id": "cbf121af",
   "metadata": {},
   "source": [
    "#### Model Evaluation of GridSearchCV Ridge Regression"
   ]
  },
  {
   "cell_type": "code",
   "execution_count": 77,
   "id": "e1372fbe",
   "metadata": {},
   "outputs": [
    {
     "name": "stdout",
     "output_type": "stream",
     "text": [
      "MSE= 35236894.402645804\n",
      "RMSE= 5936.067250515765\n",
      "MAE= 4151.82239467858\n",
      "R2_Score= 0.7605657841493323\n",
      "Adj_R2_Score= 0.7585328521279587\n"
     ]
    }
   ],
   "source": [
    "y_pred_train=gscv_ridge_model.fit(x_train, y_train).predict(x_train)\n",
    "\n",
    "mse=mean_squared_error(y_train,y_pred_train)\n",
    "print(\"MSE=\",mse)\n",
    "\n",
    "rmse=np.sqrt(mse)\n",
    "print(\"RMSE=\",rmse)\n",
    "\n",
    "mae=mean_absolute_error(y_train,y_pred_train)\n",
    "print(\"MAE=\",mae)\n",
    "\n",
    "r_squared_value=r2_score(y_train,y_pred_train)\n",
    "print(\"R2_Score=\",r_squared_value)\n",
    "\n",
    "adj_r2=1-(((1-r_squared_value)*(x_train.shape[0]-1))/\n",
    "        (x_train.shape[0]-1-x_train.shape[1]))\n",
    "print(\"Adj_R2_Score=\",adj_r2)"
   ]
  },
  {
   "cell_type": "code",
   "execution_count": 78,
   "id": "6c97266c",
   "metadata": {},
   "outputs": [
    {
     "name": "stdout",
     "output_type": "stream",
     "text": [
      "MSE= 41709650.3559619\n",
      "RMSE= 6458.300887691893\n",
      "MAE= 4324.926233485108\n",
      "R2_Score= 0.710372621062922\n",
      "Adj_R2_Score= 0.7002693404023261\n"
     ]
    }
   ],
   "source": [
    "# Evaluation of Testing Data\n",
    "\n",
    "y_pred_test=gscv_ridge_model.fit(x_train, y_train).predict(x_test)\n",
    "\n",
    "mse=mean_squared_error(y_test,y_pred_test)\n",
    "print(\"MSE=\",mse)\n",
    "\n",
    "rmse=np.sqrt(mse)\n",
    "print(\"RMSE=\",rmse)\n",
    "\n",
    "mae=mean_absolute_error(y_test,y_pred_test)\n",
    "print(\"MAE=\",mae)\n",
    "\n",
    "r_squared_value=r2_score(y_test,y_pred_test)\n",
    "print(\"R2_Score=\",r_squared_value)\n",
    "\n",
    "adj_r2=1-(((1-r_squared_value)*(x_test.shape[0]-1))/\n",
    "        (x_test.shape[0]-1-x_test.shape[1]))\n",
    "print(\"Adj_R2_Score=\",adj_r2)"
   ]
  },
  {
   "cell_type": "markdown",
   "id": "81025b33",
   "metadata": {},
   "source": [
    "#### 2) RandomizedSearchCV "
   ]
  },
  {
   "cell_type": "code",
   "execution_count": 79,
   "id": "6f8f8bd0",
   "metadata": {},
   "outputs": [
    {
     "data": {
      "text/plain": [
       "RandomizedSearchCV(estimator=Ridge(), n_jobs=-1,\n",
       "                   param_distributions={'alpha': array([0.01, 0.02, 0.03, 0.04, 0.05, 0.06, 0.07, 0.08, 0.09, 0.1 , 0.11,\n",
       "       0.12, 0.13, 0.14, 0.15, 0.16, 0.17, 0.18, 0.19, 0.2 , 0.21, 0.22,\n",
       "       0.23, 0.24, 0.25, 0.26, 0.27, 0.28, 0.29, 0.3 , 0.31, 0.32, 0.33,\n",
       "       0.34, 0.35, 0.36, 0.37, 0.38, 0.39, 0.4 , 0.41, 0.42, 0.43, 0.44,\n",
       "       0.45, 0.46, 0.47, 0.48, 0.49, 0.5 , 0.51, 0.52, 0.53, 0.54, 0....\n",
       "       2.21, 2.22, 2.23, 2.24, 2.25, 2.26, 2.27, 2.28, 2.29, 2.3 , 2.31,\n",
       "       2.32, 2.33, 2.34, 2.35, 2.36, 2.37, 2.38, 2.39, 2.4 , 2.41, 2.42,\n",
       "       2.43, 2.44, 2.45, 2.46, 2.47, 2.48, 2.49, 2.5 , 2.51, 2.52, 2.53,\n",
       "       2.54, 2.55, 2.56, 2.57, 2.58, 2.59, 2.6 , 2.61, 2.62, 2.63, 2.64,\n",
       "       2.65, 2.66, 2.67, 2.68, 2.69, 2.7 , 2.71, 2.72, 2.73, 2.74, 2.75,\n",
       "       2.76, 2.77, 2.78, 2.79, 2.8 , 2.81, 2.82, 2.83, 2.84, 2.85, 2.86,\n",
       "       2.87, 2.88, 2.89, 2.9 , 2.91, 2.92, 2.93, 2.94, 2.95, 2.96, 2.97,\n",
       "       2.98, 2.99])})"
      ]
     },
     "execution_count": 79,
     "metadata": {},
     "output_type": "execute_result"
    }
   ],
   "source": [
    "# Model instance\n",
    "ridge_model = Ridge()\n",
    "\n",
    "# Defined param_grid\n",
    "param_grid = {\"alpha\": np.arange(0.01,3,0.01)}\n",
    "\n",
    "rscv_ridge_model = RandomizedSearchCV(ridge_model, param_grid, n_jobs=-1)\n",
    "\n",
    "rscv_ridge_model.fit(x_train, y_train)"
   ]
  },
  {
   "cell_type": "code",
   "execution_count": 80,
   "id": "872f101f",
   "metadata": {},
   "outputs": [
    {
     "data": {
      "text/plain": [
       "Ridge(alpha=0.53)"
      ]
     },
     "execution_count": 80,
     "metadata": {},
     "output_type": "execute_result"
    }
   ],
   "source": [
    "rscv_ridge_model.best_estimator_"
   ]
  },
  {
   "cell_type": "markdown",
   "id": "7473ec27",
   "metadata": {},
   "source": [
    "#### Model Evaluation of RandomizedSearchCV Ridge Regression"
   ]
  },
  {
   "cell_type": "code",
   "execution_count": 81,
   "id": "10ab97b9",
   "metadata": {},
   "outputs": [
    {
     "name": "stdout",
     "output_type": "stream",
     "text": [
      "MSE= 35237327.912723124\n",
      "RMSE= 5936.103765326472\n",
      "MAE= 4153.148912676109\n",
      "R2_Score= 0.7605628384542821\n",
      "Adj_R2_Score= 0.7585298814222902\n"
     ]
    }
   ],
   "source": [
    "y_pred_train=rscv_ridge_model.fit(x_train, y_train).predict(x_train)\n",
    "\n",
    "mse=mean_squared_error(y_train,y_pred_train)\n",
    "print(\"MSE=\",mse)\n",
    "\n",
    "rmse=np.sqrt(mse)\n",
    "print(\"RMSE=\",rmse)\n",
    "\n",
    "mae=mean_absolute_error(y_train,y_pred_train)\n",
    "print(\"MAE=\",mae)\n",
    "\n",
    "r_squared_value=r2_score(y_train,y_pred_train)\n",
    "print(\"R2_Score=\",r_squared_value)\n",
    "\n",
    "adj_r2=1-(((1-r_squared_value)*(x_train.shape[0]-1))/\n",
    "        (x_train.shape[0]-1-x_train.shape[1]))\n",
    "print(\"Adj_R2_Score=\",adj_r2)"
   ]
  },
  {
   "cell_type": "code",
   "execution_count": 82,
   "id": "3b0e3ad3",
   "metadata": {},
   "outputs": [
    {
     "name": "stdout",
     "output_type": "stream",
     "text": [
      "MSE= 41709667.097136684\n",
      "RMSE= 6458.302183789226\n",
      "MAE= 4325.084052220122\n",
      "R2_Score= 0.7103725048139835\n",
      "Adj_R2_Score= 0.7002692200981923\n"
     ]
    }
   ],
   "source": [
    "# Evaluation of Testing Data\n",
    "\n",
    "y_pred_test=rscv_ridge_model.fit(x_train, y_train).predict(x_test)\n",
    "\n",
    "mse=mean_squared_error(y_test,y_pred_test)\n",
    "print(\"MSE=\",mse)\n",
    "\n",
    "rmse=np.sqrt(mse)\n",
    "print(\"RMSE=\",rmse)\n",
    "\n",
    "mae=mean_absolute_error(y_test,y_pred_test)\n",
    "print(\"MAE=\",mae)\n",
    "\n",
    "r_squared_value=r2_score(y_test,y_pred_test)\n",
    "print(\"R2_Score=\",r_squared_value)\n",
    "\n",
    "adj_r2=1-(((1-r_squared_value)*(x_test.shape[0]-1))/\n",
    "        (x_test.shape[0]-1-x_test.shape[1]))\n",
    "print(\"Adj_R2_Score=\",adj_r2)"
   ]
  },
  {
   "cell_type": "markdown",
   "id": "7027091b",
   "metadata": {},
   "source": [
    "### Hyperparameter Tunning for Lasso Regression Model"
   ]
  },
  {
   "cell_type": "markdown",
   "id": "39abd6e9",
   "metadata": {},
   "source": [
    "#### 1) GridSearchCV"
   ]
  },
  {
   "cell_type": "code",
   "execution_count": 83,
   "id": "7b984196",
   "metadata": {},
   "outputs": [
    {
     "data": {
      "text/plain": [
       "GridSearchCV(estimator=Lasso(),\n",
       "             param_grid={'alpha': array([0.01, 0.02, 0.03, 0.04, 0.05, 0.06, 0.07, 0.08, 0.09, 0.1 , 0.11,\n",
       "       0.12, 0.13, 0.14, 0.15, 0.16, 0.17, 0.18, 0.19, 0.2 , 0.21, 0.22,\n",
       "       0.23, 0.24, 0.25, 0.26, 0.27, 0.28, 0.29, 0.3 , 0.31, 0.32, 0.33,\n",
       "       0.34, 0.35, 0.36, 0.37, 0.38, 0.39, 0.4 , 0.41, 0.42, 0.43, 0.44,\n",
       "       0.45, 0.46, 0.47, 0.48, 0.49, 0.5 , 0.51, 0.52, 0.53, 0.54, 0.55,\n",
       "       0.56, 0.57, 0.58, 0.59, 0....\n",
       "       2.21, 2.22, 2.23, 2.24, 2.25, 2.26, 2.27, 2.28, 2.29, 2.3 , 2.31,\n",
       "       2.32, 2.33, 2.34, 2.35, 2.36, 2.37, 2.38, 2.39, 2.4 , 2.41, 2.42,\n",
       "       2.43, 2.44, 2.45, 2.46, 2.47, 2.48, 2.49, 2.5 , 2.51, 2.52, 2.53,\n",
       "       2.54, 2.55, 2.56, 2.57, 2.58, 2.59, 2.6 , 2.61, 2.62, 2.63, 2.64,\n",
       "       2.65, 2.66, 2.67, 2.68, 2.69, 2.7 , 2.71, 2.72, 2.73, 2.74, 2.75,\n",
       "       2.76, 2.77, 2.78, 2.79, 2.8 , 2.81, 2.82, 2.83, 2.84, 2.85, 2.86,\n",
       "       2.87, 2.88, 2.89, 2.9 , 2.91, 2.92, 2.93, 2.94, 2.95, 2.96, 2.97,\n",
       "       2.98, 2.99])})"
      ]
     },
     "execution_count": 83,
     "metadata": {},
     "output_type": "execute_result"
    }
   ],
   "source": [
    "lasso_model = Lasso() # Model instance\n",
    "\n",
    "param_grid = {\"alpha\": np.arange(0.01,3,0.01)} # Defined param_grid\n",
    "\n",
    "gscv_lasso_model = GridSearchCV(lasso_model, param_grid)\n",
    "\n",
    "gscv_lasso_model.fit(x_train, y_train)"
   ]
  },
  {
   "cell_type": "code",
   "execution_count": 84,
   "id": "b4b6a95b",
   "metadata": {},
   "outputs": [
    {
     "data": {
      "text/plain": [
       "Lasso(alpha=2.9899999999999998)"
      ]
     },
     "execution_count": 84,
     "metadata": {},
     "output_type": "execute_result"
    }
   ],
   "source": [
    "gscv_lasso_model.best_estimator_"
   ]
  },
  {
   "cell_type": "markdown",
   "id": "cf1eb7e4",
   "metadata": {},
   "source": [
    "#### Model Evaluation of GridSearchCV Lasso Regression"
   ]
  },
  {
   "cell_type": "code",
   "execution_count": 85,
   "id": "0a2d22c2",
   "metadata": {},
   "outputs": [
    {
     "name": "stdout",
     "output_type": "stream",
     "text": [
      "MSE= 35236421.81933188\n",
      "RMSE= 5936.027444287289\n",
      "MAE= 4148.27171093928\n",
      "R2_Score= 0.7605689953464913\n",
      "Adj_R2_Score= 0.7585360905899992\n"
     ]
    }
   ],
   "source": [
    "# Evaluation of Training Data\n",
    "\n",
    "y_pred_train=gscv_lasso_model.fit(x_train, y_train).predict(x_train)\n",
    "\n",
    "mse=mean_squared_error(y_train,y_pred_train)\n",
    "print(\"MSE=\",mse)\n",
    "\n",
    "rmse=np.sqrt(mse)\n",
    "print(\"RMSE=\",rmse)\n",
    "\n",
    "mae=mean_absolute_error(y_train,y_pred_train)\n",
    "print(\"MAE=\",mae)\n",
    "\n",
    "r_squared_value=r2_score(y_train,y_pred_train)\n",
    "print(\"R2_Score=\",r_squared_value)\n",
    "\n",
    "adj_r2=1-(((1-r_squared_value)*(x_train.shape[0]-1))/\n",
    "        (x_train.shape[0]-1-x_train.shape[1]))\n",
    "print(\"Adj_R2_Score=\",adj_r2)"
   ]
  },
  {
   "cell_type": "code",
   "execution_count": 86,
   "id": "522d5956",
   "metadata": {},
   "outputs": [
    {
     "name": "stdout",
     "output_type": "stream",
     "text": [
      "MSE= 41734089.263767086\n",
      "RMSE= 6460.192664601195\n",
      "MAE= 4321.428860467424\n",
      "R2_Score= 0.7102029198846264\n",
      "Adj_R2_Score= 0.7000937194154855\n"
     ]
    }
   ],
   "source": [
    "# Evaluation of Testing Data\n",
    "\n",
    "y_pred_test=gscv_lasso_model.fit(x_train, y_train).predict(x_test)\n",
    "\n",
    "mse=mean_squared_error(y_test,y_pred_test)\n",
    "print(\"MSE=\",mse)\n",
    "\n",
    "rmse=np.sqrt(mse)\n",
    "print(\"RMSE=\",rmse)\n",
    "\n",
    "mae=mean_absolute_error(y_test,y_pred_test)\n",
    "print(\"MAE=\",mae)\n",
    "\n",
    "r_squared_value=r2_score(y_test,y_pred_test)\n",
    "print(\"R2_Score=\",r_squared_value)\n",
    "\n",
    "adj_r2=1-(((1-r_squared_value)*(x_test.shape[0]-1))/\n",
    "        (x_test.shape[0]-1-x_test.shape[1]))\n",
    "print(\"Adj_R2_Score=\",adj_r2)"
   ]
  },
  {
   "cell_type": "markdown",
   "id": "3bd81152",
   "metadata": {},
   "source": [
    "#### 2) RandomizedSearchCV"
   ]
  },
  {
   "cell_type": "code",
   "execution_count": 87,
   "id": "70704b75",
   "metadata": {},
   "outputs": [
    {
     "data": {
      "text/plain": [
       "RandomizedSearchCV(estimator=Lasso(), n_jobs=-1,\n",
       "                   param_distributions={'alpha': array([0.01, 0.02, 0.03, 0.04, 0.05, 0.06, 0.07, 0.08, 0.09, 0.1 , 0.11,\n",
       "       0.12, 0.13, 0.14, 0.15, 0.16, 0.17, 0.18, 0.19, 0.2 , 0.21, 0.22,\n",
       "       0.23, 0.24, 0.25, 0.26, 0.27, 0.28, 0.29, 0.3 , 0.31, 0.32, 0.33,\n",
       "       0.34, 0.35, 0.36, 0.37, 0.38, 0.39, 0.4 , 0.41, 0.42, 0.43, 0.44,\n",
       "       0.45, 0.46, 0.47, 0.48, 0.49, 0.5 , 0.51, 0.52, 0.53, 0.54, 0....\n",
       "       2.21, 2.22, 2.23, 2.24, 2.25, 2.26, 2.27, 2.28, 2.29, 2.3 , 2.31,\n",
       "       2.32, 2.33, 2.34, 2.35, 2.36, 2.37, 2.38, 2.39, 2.4 , 2.41, 2.42,\n",
       "       2.43, 2.44, 2.45, 2.46, 2.47, 2.48, 2.49, 2.5 , 2.51, 2.52, 2.53,\n",
       "       2.54, 2.55, 2.56, 2.57, 2.58, 2.59, 2.6 , 2.61, 2.62, 2.63, 2.64,\n",
       "       2.65, 2.66, 2.67, 2.68, 2.69, 2.7 , 2.71, 2.72, 2.73, 2.74, 2.75,\n",
       "       2.76, 2.77, 2.78, 2.79, 2.8 , 2.81, 2.82, 2.83, 2.84, 2.85, 2.86,\n",
       "       2.87, 2.88, 2.89, 2.9 , 2.91, 2.92, 2.93, 2.94, 2.95, 2.96, 2.97,\n",
       "       2.98, 2.99])})"
      ]
     },
     "execution_count": 87,
     "metadata": {},
     "output_type": "execute_result"
    }
   ],
   "source": [
    "lasso_model = Lasso()\n",
    "\n",
    "param_grid = {\"alpha\": np.arange(0.01,3,0.01)}\n",
    "\n",
    "rscv_lasso_model = RandomizedSearchCV(lasso_model, param_grid, n_jobs=-1)\n",
    "\n",
    "rscv_lasso_model.fit(x_train, y_train)"
   ]
  },
  {
   "cell_type": "code",
   "execution_count": 88,
   "id": "cf535ddb",
   "metadata": {},
   "outputs": [
    {
     "data": {
      "text/plain": [
       "Lasso(alpha=2.61)"
      ]
     },
     "execution_count": 88,
     "metadata": {},
     "output_type": "execute_result"
    }
   ],
   "source": [
    "rscv_lasso_model.best_estimator_"
   ]
  },
  {
   "cell_type": "markdown",
   "id": "9df669a3",
   "metadata": {},
   "source": [
    "#### Model Evaluation of RandomizedSearchCV Ridge Regression"
   ]
  },
  {
   "cell_type": "code",
   "execution_count": 89,
   "id": "1993c784",
   "metadata": {},
   "outputs": [
    {
     "name": "stdout",
     "output_type": "stream",
     "text": [
      "MSE= 35236393.56633971\n",
      "RMSE= 5936.025064497261\n",
      "MAE= 4148.189012578243\n",
      "R2_Score= 0.7605691873251869\n",
      "Adj_R2_Score= 0.7585362841987026\n"
     ]
    }
   ],
   "source": [
    "# Evaluation of Training Data\n",
    "\n",
    "y_pred_train=rscv_lasso_model.fit(x_train, y_train).predict(x_train)\n",
    "\n",
    "mse=mean_squared_error(y_train,y_pred_train)\n",
    "print(\"MSE=\",mse)\n",
    "\n",
    "rmse=np.sqrt(mse)\n",
    "print(\"RMSE=\",rmse)\n",
    "\n",
    "mae=mean_absolute_error(y_train,y_pred_train)\n",
    "print(\"MAE=\",mae)\n",
    "\n",
    "r_squared_value=r2_score(y_train,y_pred_train)\n",
    "print(\"R2_Score=\",r_squared_value)\n",
    "\n",
    "adj_r2=1-(((1-r_squared_value)*(x_train.shape[0]-1))/\n",
    "        (x_train.shape[0]-1-x_train.shape[1]))\n",
    "print(\"Adj_R2_Score=\",adj_r2)"
   ]
  },
  {
   "cell_type": "code",
   "execution_count": 90,
   "id": "6a4049fd",
   "metadata": {},
   "outputs": [
    {
     "name": "stdout",
     "output_type": "stream",
     "text": [
      "MSE= 41734005.33003336\n",
      "RMSE= 6460.186168372655\n",
      "MAE= 4321.427656708433\n",
      "R2_Score= 0.7102035027115524\n",
      "Adj_R2_Score= 0.7000943225735833\n"
     ]
    }
   ],
   "source": [
    "# Evaluation of Testing Data\n",
    "\n",
    "y_pred_test=rscv_lasso_model.fit(x_train, y_train).predict(x_test)\n",
    "\n",
    "mse=mean_squared_error(y_test,y_pred_test)\n",
    "print(\"MSE=\",mse)\n",
    "\n",
    "rmse=np.sqrt(mse)\n",
    "print(\"RMSE=\",rmse)\n",
    "\n",
    "mae=mean_absolute_error(y_test,y_pred_test)\n",
    "print(\"MAE=\",mae)\n",
    "\n",
    "r_squared_value=r2_score(y_test,y_pred_test)\n",
    "print(\"R2_Score=\",r_squared_value)\n",
    "\n",
    "adj_r2=1-(((1-r_squared_value)*(x_test.shape[0]-1))/\n",
    "        (x_test.shape[0]-1-x_test.shape[1]))\n",
    "print(\"Adj_R2_Score=\",adj_r2)"
   ]
  },
  {
   "cell_type": "code",
   "execution_count": 91,
   "id": "21fd7d48",
   "metadata": {},
   "outputs": [
    {
     "data": {
      "text/html": [
       "<div>\n",
       "<style scoped>\n",
       "    .dataframe tbody tr th:only-of-type {\n",
       "        vertical-align: middle;\n",
       "    }\n",
       "\n",
       "    .dataframe tbody tr th {\n",
       "        vertical-align: top;\n",
       "    }\n",
       "\n",
       "    .dataframe thead th {\n",
       "        text-align: right;\n",
       "    }\n",
       "</style>\n",
       "<table border=\"1\" class=\"dataframe\">\n",
       "  <thead>\n",
       "    <tr style=\"text-align: right;\">\n",
       "      <th></th>\n",
       "      <th>0</th>\n",
       "    </tr>\n",
       "  </thead>\n",
       "  <tbody>\n",
       "    <tr>\n",
       "      <th>age</th>\n",
       "      <td>19.0</td>\n",
       "    </tr>\n",
       "    <tr>\n",
       "      <th>sex</th>\n",
       "      <td>1.0</td>\n",
       "    </tr>\n",
       "    <tr>\n",
       "      <th>bmi</th>\n",
       "      <td>27.9</td>\n",
       "    </tr>\n",
       "    <tr>\n",
       "      <th>children</th>\n",
       "      <td>0.0</td>\n",
       "    </tr>\n",
       "    <tr>\n",
       "      <th>smoker</th>\n",
       "      <td>1.0</td>\n",
       "    </tr>\n",
       "    <tr>\n",
       "      <th>region_northeast</th>\n",
       "      <td>0.0</td>\n",
       "    </tr>\n",
       "    <tr>\n",
       "      <th>region_northwest</th>\n",
       "      <td>0.0</td>\n",
       "    </tr>\n",
       "    <tr>\n",
       "      <th>region_southeast</th>\n",
       "      <td>0.0</td>\n",
       "    </tr>\n",
       "    <tr>\n",
       "      <th>region_southwest</th>\n",
       "      <td>1.0</td>\n",
       "    </tr>\n",
       "  </tbody>\n",
       "</table>\n",
       "</div>"
      ],
      "text/plain": [
       "                     0\n",
       "age               19.0\n",
       "sex                1.0\n",
       "bmi               27.9\n",
       "children           0.0\n",
       "smoker             1.0\n",
       "region_northeast   0.0\n",
       "region_northwest   0.0\n",
       "region_southeast   0.0\n",
       "region_southwest   1.0"
      ]
     },
     "execution_count": 91,
     "metadata": {},
     "output_type": "execute_result"
    }
   ],
   "source": [
    "x.head(1).T"
   ]
  },
  {
   "cell_type": "code",
   "execution_count": 92,
   "id": "3a4c9532",
   "metadata": {},
   "outputs": [
    {
     "data": {
      "text/plain": [
       "9"
      ]
     },
     "execution_count": 92,
     "metadata": {},
     "output_type": "execute_result"
    }
   ],
   "source": [
    "column_names = x.columns\n",
    "len(column_names)"
   ]
  },
  {
   "cell_type": "markdown",
   "id": "9df40b9c",
   "metadata": {},
   "source": [
    "#### Storring the feature names, label encoded values in JSON file"
   ]
  },
  {
   "cell_type": "code",
   "execution_count": 93,
   "id": "49e3b175",
   "metadata": {},
   "outputs": [
    {
     "data": {
      "text/plain": [
       "{'sex': {'male': 0, 'female': 1},\n",
       " 'smoker': {'no': 0, 'yes': 1},\n",
       " 'columns': ['age',\n",
       "  'sex',\n",
       "  'bmi',\n",
       "  'children',\n",
       "  'smoker',\n",
       "  'region_northeast',\n",
       "  'region_northwest',\n",
       "  'region_southeast',\n",
       "  'region_southwest']}"
      ]
     },
     "execution_count": 93,
     "metadata": {},
     "output_type": "execute_result"
    }
   ],
   "source": [
    "json_data = {\"sex\":sex_value, \n",
    "            \"smoker\":smoker_value,\n",
    "            \"columns\":list(column_names)}\n",
    "json_data"
   ]
  },
  {
   "cell_type": "code",
   "execution_count": 94,
   "id": "2c262a32",
   "metadata": {},
   "outputs": [],
   "source": [
    "with open(\"Project_data.json\", \"w\") as f:\n",
    "    json.dump(json_data, f)"
   ]
  },
  {
   "cell_type": "markdown",
   "id": "ed829af0",
   "metadata": {},
   "source": [
    "#### Storring fitted model in pickle file"
   ]
  },
  {
   "cell_type": "code",
   "execution_count": 95,
   "id": "86afe8d7",
   "metadata": {},
   "outputs": [],
   "source": [
    "with open(\"Linear model.pkl\", \"wb\") as f:\n",
    "    pickle.dump(linear_model, f)"
   ]
  },
  {
   "cell_type": "markdown",
   "id": "528a9d85",
   "metadata": {},
   "source": [
    "### Prediction on User entered value for testing"
   ]
  },
  {
   "cell_type": "code",
   "execution_count": 96,
   "id": "8859e42e",
   "metadata": {},
   "outputs": [],
   "source": [
    "age = 35.0\n",
    "sex = \"male\"\n",
    "bmi = 29.9\n",
    "children = 1.0\n",
    "smoker = \"no\"\n",
    "region = \"northwest\""
   ]
  },
  {
   "cell_type": "markdown",
   "id": "873a36eb",
   "metadata": {},
   "source": [
    "#### Conversion for One-Hot Encoded values"
   ]
  },
  {
   "cell_type": "code",
   "execution_count": 97,
   "id": "bcd2886b",
   "metadata": {},
   "outputs": [
    {
     "data": {
      "text/plain": [
       "6"
      ]
     },
     "execution_count": 97,
     "metadata": {},
     "output_type": "execute_result"
    }
   ],
   "source": [
    "# input for one-hot encodding\n",
    "region = \"region_\" + region\n",
    "\n",
    "# index of one-hot encodded columns\n",
    "region_index = np.where(column_names == region)[0][0]\n",
    "# or\n",
    "region_index = list(column_names).index(region)\n",
    "region_index"
   ]
  },
  {
   "cell_type": "markdown",
   "id": "968ac4ed",
   "metadata": {},
   "source": [
    "#### Creating array of user input values"
   ]
  },
  {
   "cell_type": "code",
   "execution_count": 99,
   "id": "c2140b96",
   "metadata": {},
   "outputs": [
    {
     "data": {
      "text/plain": [
       "array([35. ,  0. , 29.9,  1. ,  0. ,  0. ,  1. ,  0. ,  0. ])"
      ]
     },
     "execution_count": 99,
     "metadata": {},
     "output_type": "execute_result"
    }
   ],
   "source": [
    "test_array = np.zeros(len(column_names))\n",
    "\n",
    "# Note: put feature values in front of correct feature index\n",
    "test_array[0] = age\n",
    "test_array[1] = json_data['sex'][sex] #label encodded\n",
    "test_array[2] = bmi\n",
    "test_array[3] = children\n",
    "test_array[4] = json_data['smoker'][smoker] #label encodded\n",
    "test_array[region_index] = 1 # one-hot encodded\n",
    "\n",
    "test_array"
   ]
  },
  {
   "cell_type": "markdown",
   "id": "c2bdd68c",
   "metadata": {},
   "source": [
    "### Prediction Output"
   ]
  },
  {
   "cell_type": "code",
   "execution_count": 100,
   "id": "35bde04b",
   "metadata": {},
   "outputs": [
    {
     "name": "stdout",
     "output_type": "stream",
     "text": [
      "Predicted Medical Insurance Charges is: 7034.14 /- Rs.\n"
     ]
    }
   ],
   "source": [
    "charges = linear_model.predict([test_array])[0]\n",
    "\n",
    "print(\"Predicted Medical Insurance Charges is:\",round(charges,2),'/- Rs.')"
   ]
  },
  {
   "cell_type": "code",
   "execution_count": null,
   "id": "741ba71c",
   "metadata": {},
   "outputs": [],
   "source": []
  }
 ],
 "metadata": {
  "kernelspec": {
   "display_name": "Python 3 (ipykernel)",
   "language": "python",
   "name": "python3"
  },
  "language_info": {
   "codemirror_mode": {
    "name": "ipython",
    "version": 3
   },
   "file_extension": ".py",
   "mimetype": "text/x-python",
   "name": "python",
   "nbconvert_exporter": "python",
   "pygments_lexer": "ipython3",
   "version": "3.9.13"
  }
 },
 "nbformat": 4,
 "nbformat_minor": 5
}
